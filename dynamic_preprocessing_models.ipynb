{
 "cells": [
  {
   "cell_type": "markdown",
   "id": "62b33e16",
   "metadata": {},
   "source": [
    "# Dynamic preprocessing models"
   ]
  },
  {
   "cell_type": "code",
   "execution_count": 1,
   "id": "de879080",
   "metadata": {},
   "outputs": [],
   "source": [
    "import pandas as pd\n",
    "import numpy as np\n",
    "from pprint import pprint\n",
    "import pickle\n",
    "from pandas.api.types import is_numeric_dtype\n",
    "import os"
   ]
  },
  {
   "cell_type": "markdown",
   "id": "1cae7a6c",
   "metadata": {},
   "source": [
    "## Create data"
   ]
  },
  {
   "cell_type": "code",
   "execution_count": 2,
   "id": "40bf0865",
   "metadata": {},
   "outputs": [
    {
     "data": {
      "text/html": [
       "<div>\n",
       "<style scoped>\n",
       "    .dataframe tbody tr th:only-of-type {\n",
       "        vertical-align: middle;\n",
       "    }\n",
       "\n",
       "    .dataframe tbody tr th {\n",
       "        vertical-align: top;\n",
       "    }\n",
       "\n",
       "    .dataframe thead th {\n",
       "        text-align: right;\n",
       "    }\n",
       "</style>\n",
       "<table border=\"1\" class=\"dataframe\">\n",
       "  <thead>\n",
       "    <tr style=\"text-align: right;\">\n",
       "      <th></th>\n",
       "      <th>col1</th>\n",
       "      <th>col2</th>\n",
       "      <th>col3</th>\n",
       "      <th>col4</th>\n",
       "      <th>col5</th>\n",
       "    </tr>\n",
       "  </thead>\n",
       "  <tbody>\n",
       "    <tr>\n",
       "      <th>0</th>\n",
       "      <td>1.0</td>\n",
       "      <td>2.0</td>\n",
       "      <td>3.0</td>\n",
       "      <td>four</td>\n",
       "      <td>five</td>\n",
       "    </tr>\n",
       "    <tr>\n",
       "      <th>1</th>\n",
       "      <td>1.0</td>\n",
       "      <td>2.0</td>\n",
       "      <td>3.0</td>\n",
       "      <td>Four</td>\n",
       "      <td>Five</td>\n",
       "    </tr>\n",
       "    <tr>\n",
       "      <th>2</th>\n",
       "      <td>1.0</td>\n",
       "      <td>2.0</td>\n",
       "      <td>3.0</td>\n",
       "      <td>fo ur</td>\n",
       "      <td>fi ve</td>\n",
       "    </tr>\n",
       "    <tr>\n",
       "      <th>3</th>\n",
       "      <td>1.0</td>\n",
       "      <td>2.0</td>\n",
       "      <td>3.0</td>\n",
       "      <td>four</td>\n",
       "      <td>five</td>\n",
       "    </tr>\n",
       "    <tr>\n",
       "      <th>4</th>\n",
       "      <td>NaN</td>\n",
       "      <td>NaN</td>\n",
       "      <td>NaN</td>\n",
       "      <td>NaN</td>\n",
       "      <td>NaN</td>\n",
       "    </tr>\n",
       "  </tbody>\n",
       "</table>\n",
       "</div>"
      ],
      "text/plain": [
       "   col1  col2  col3   col4   col5\n",
       "0   1.0   2.0   3.0   four   five\n",
       "1   1.0   2.0   3.0   Four   Five\n",
       "2   1.0   2.0   3.0  fo ur  fi ve\n",
       "3   1.0   2.0   3.0   four   five\n",
       "4   NaN   NaN   NaN    NaN    NaN"
      ]
     },
     "execution_count": 2,
     "metadata": {},
     "output_type": "execute_result"
    }
   ],
   "source": [
    "# raw - train\n",
    "df_raw_train = pd.DataFrame(\n",
    "    {\n",
    "        'col1': [1,1,1,1,np.nan],\n",
    "        'col2': [2,2,2,2,np.nan],\n",
    "        'col3': [3,3,3,3,np.nan],\n",
    "        'col4': ['four','Four','fo ur','four',np.nan],\n",
    "        'col5': ['five','Five','fi ve','five',np.nan],\n",
    "    }\n",
    ")\n",
    "\n",
    "# show\n",
    "df_raw_train"
   ]
  },
  {
   "cell_type": "code",
   "execution_count": 3,
   "id": "652b20bc",
   "metadata": {},
   "outputs": [
    {
     "data": {
      "text/html": [
       "<div>\n",
       "<style scoped>\n",
       "    .dataframe tbody tr th:only-of-type {\n",
       "        vertical-align: middle;\n",
       "    }\n",
       "\n",
       "    .dataframe tbody tr th {\n",
       "        vertical-align: top;\n",
       "    }\n",
       "\n",
       "    .dataframe thead th {\n",
       "        text-align: right;\n",
       "    }\n",
       "</style>\n",
       "<table border=\"1\" class=\"dataframe\">\n",
       "  <thead>\n",
       "    <tr style=\"text-align: right;\">\n",
       "      <th></th>\n",
       "      <th>col1</th>\n",
       "      <th>col2</th>\n",
       "      <th>col3</th>\n",
       "      <th>col4</th>\n",
       "      <th>col5</th>\n",
       "    </tr>\n",
       "  </thead>\n",
       "  <tbody>\n",
       "    <tr>\n",
       "      <th>0</th>\n",
       "      <td>NaN</td>\n",
       "      <td>NaN</td>\n",
       "      <td>NaN</td>\n",
       "      <td>NaN</td>\n",
       "      <td>NaN</td>\n",
       "    </tr>\n",
       "    <tr>\n",
       "      <th>1</th>\n",
       "      <td>NaN</td>\n",
       "      <td>NaN</td>\n",
       "      <td>NaN</td>\n",
       "      <td>NaN</td>\n",
       "      <td>NaN</td>\n",
       "    </tr>\n",
       "  </tbody>\n",
       "</table>\n",
       "</div>"
      ],
      "text/plain": [
       "   col1  col2  col3  col4  col5\n",
       "0   NaN   NaN   NaN   NaN   NaN\n",
       "1   NaN   NaN   NaN   NaN   NaN"
      ]
     },
     "execution_count": 3,
     "metadata": {},
     "output_type": "execute_result"
    }
   ],
   "source": [
    "# raw - test\n",
    "df_raw_test = pd.DataFrame(\n",
    "     {\n",
    "        'col1': [np.nan, np.nan],\n",
    "        'col2': [np.nan, np.nan],\n",
    "        'col3': [np.nan, np.nan],\n",
    "        'col4': [np.nan, np.nan],\n",
    "        'col5': [np.nan, np.nan],\n",
    "    }\n",
    ")\n",
    "\n",
    "# show\n",
    "df_raw_test"
   ]
  },
  {
   "cell_type": "markdown",
   "id": "c9fcaf12",
   "metadata": {},
   "source": [
    "## Numeric Imputer (minimum)"
   ]
  },
  {
   "cell_type": "markdown",
   "id": "44eb8015",
   "metadata": {},
   "source": [
    "### Find minimum of each numeric column"
   ]
  },
  {
   "cell_type": "code",
   "execution_count": 4,
   "id": "5f0b7258",
   "metadata": {},
   "outputs": [
    {
     "name": "stdout",
     "output_type": "stream",
     "text": [
      "{'col1': 1.0, 'col2': 2.0, 'col3': 3.0}\n"
     ]
    }
   ],
   "source": [
    "# loose code\n",
    "dict_impute_min = {}\n",
    "for col in df_raw_train.columns:\n",
    "    # get min\n",
    "    try:\n",
    "        val_min = np.min(df_raw_train[col])\n",
    "        # assign to dict_impute_min\n",
    "        dict_impute_min[col] = val_min\n",
    "    # if non-numeric\n",
    "    except TypeError:\n",
    "        pass\n",
    "\n",
    "# show\n",
    "pprint(dict_impute_min)"
   ]
  },
  {
   "cell_type": "code",
   "execution_count": 5,
   "id": "35191c93",
   "metadata": {},
   "outputs": [
    {
     "name": "stdout",
     "output_type": "stream",
     "text": [
      "{'col1': 1.0, 'col2': 2.0, 'col3': 3.0}\n"
     ]
    }
   ],
   "source": [
    "# function\n",
    "def fit(X):\n",
    "    dict_impute_min = {}\n",
    "    for col in X.columns:\n",
    "        # get min\n",
    "        try:\n",
    "            val_min = np.min(X[col])\n",
    "            # assign to dict_impute_min\n",
    "            dict_impute_min[col] = val_min\n",
    "        # if non-numeric\n",
    "        except TypeError:\n",
    "            pass\n",
    "    # return dict_impute_min\n",
    "    return dict_impute_min\n",
    "\n",
    "# use fit\n",
    "dict_impute_min = fit(X=df_raw_train)\n",
    "\n",
    "# show\n",
    "pprint(dict_impute_min)"
   ]
  },
  {
   "cell_type": "markdown",
   "id": "7c94351a",
   "metadata": {},
   "source": [
    "### Impute the minimum for each column"
   ]
  },
  {
   "cell_type": "code",
   "execution_count": 6,
   "id": "bc743eb3",
   "metadata": {},
   "outputs": [
    {
     "data": {
      "text/html": [
       "<div>\n",
       "<style scoped>\n",
       "    .dataframe tbody tr th:only-of-type {\n",
       "        vertical-align: middle;\n",
       "    }\n",
       "\n",
       "    .dataframe tbody tr th {\n",
       "        vertical-align: top;\n",
       "    }\n",
       "\n",
       "    .dataframe thead th {\n",
       "        text-align: right;\n",
       "    }\n",
       "</style>\n",
       "<table border=\"1\" class=\"dataframe\">\n",
       "  <thead>\n",
       "    <tr style=\"text-align: right;\">\n",
       "      <th></th>\n",
       "      <th>col1</th>\n",
       "      <th>col2</th>\n",
       "      <th>col3</th>\n",
       "      <th>col4</th>\n",
       "      <th>col5</th>\n",
       "    </tr>\n",
       "  </thead>\n",
       "  <tbody>\n",
       "    <tr>\n",
       "      <th>0</th>\n",
       "      <td>1.0</td>\n",
       "      <td>2.0</td>\n",
       "      <td>3.0</td>\n",
       "      <td>four</td>\n",
       "      <td>five</td>\n",
       "    </tr>\n",
       "    <tr>\n",
       "      <th>1</th>\n",
       "      <td>1.0</td>\n",
       "      <td>2.0</td>\n",
       "      <td>3.0</td>\n",
       "      <td>Four</td>\n",
       "      <td>Five</td>\n",
       "    </tr>\n",
       "    <tr>\n",
       "      <th>2</th>\n",
       "      <td>1.0</td>\n",
       "      <td>2.0</td>\n",
       "      <td>3.0</td>\n",
       "      <td>fo ur</td>\n",
       "      <td>fi ve</td>\n",
       "    </tr>\n",
       "    <tr>\n",
       "      <th>3</th>\n",
       "      <td>1.0</td>\n",
       "      <td>2.0</td>\n",
       "      <td>3.0</td>\n",
       "      <td>four</td>\n",
       "      <td>five</td>\n",
       "    </tr>\n",
       "    <tr>\n",
       "      <th>4</th>\n",
       "      <td>NaN</td>\n",
       "      <td>NaN</td>\n",
       "      <td>NaN</td>\n",
       "      <td>NaN</td>\n",
       "      <td>NaN</td>\n",
       "    </tr>\n",
       "  </tbody>\n",
       "</table>\n",
       "</div>"
      ],
      "text/plain": [
       "   col1  col2  col3   col4   col5\n",
       "0   1.0   2.0   3.0   four   five\n",
       "1   1.0   2.0   3.0   Four   Five\n",
       "2   1.0   2.0   3.0  fo ur  fi ve\n",
       "3   1.0   2.0   3.0   four   five\n",
       "4   NaN   NaN   NaN    NaN    NaN"
      ]
     },
     "execution_count": 6,
     "metadata": {},
     "output_type": "execute_result"
    }
   ],
   "source": [
    "# create copy of the data so we dont edit the originals\n",
    "df_raw_train_copy = df_raw_train.copy()\n",
    "\n",
    "# show\n",
    "df_raw_train_copy"
   ]
  },
  {
   "cell_type": "code",
   "execution_count": 7,
   "id": "4571ef63",
   "metadata": {},
   "outputs": [
    {
     "data": {
      "text/html": [
       "<div>\n",
       "<style scoped>\n",
       "    .dataframe tbody tr th:only-of-type {\n",
       "        vertical-align: middle;\n",
       "    }\n",
       "\n",
       "    .dataframe tbody tr th {\n",
       "        vertical-align: top;\n",
       "    }\n",
       "\n",
       "    .dataframe thead th {\n",
       "        text-align: right;\n",
       "    }\n",
       "</style>\n",
       "<table border=\"1\" class=\"dataframe\">\n",
       "  <thead>\n",
       "    <tr style=\"text-align: right;\">\n",
       "      <th></th>\n",
       "      <th>col1</th>\n",
       "      <th>col2</th>\n",
       "      <th>col3</th>\n",
       "      <th>col4</th>\n",
       "      <th>col5</th>\n",
       "    </tr>\n",
       "  </thead>\n",
       "  <tbody>\n",
       "    <tr>\n",
       "      <th>0</th>\n",
       "      <td>1.0</td>\n",
       "      <td>2.0</td>\n",
       "      <td>3.0</td>\n",
       "      <td>four</td>\n",
       "      <td>five</td>\n",
       "    </tr>\n",
       "    <tr>\n",
       "      <th>1</th>\n",
       "      <td>1.0</td>\n",
       "      <td>2.0</td>\n",
       "      <td>3.0</td>\n",
       "      <td>Four</td>\n",
       "      <td>Five</td>\n",
       "    </tr>\n",
       "    <tr>\n",
       "      <th>2</th>\n",
       "      <td>1.0</td>\n",
       "      <td>2.0</td>\n",
       "      <td>3.0</td>\n",
       "      <td>fo ur</td>\n",
       "      <td>fi ve</td>\n",
       "    </tr>\n",
       "    <tr>\n",
       "      <th>3</th>\n",
       "      <td>1.0</td>\n",
       "      <td>2.0</td>\n",
       "      <td>3.0</td>\n",
       "      <td>four</td>\n",
       "      <td>five</td>\n",
       "    </tr>\n",
       "    <tr>\n",
       "      <th>4</th>\n",
       "      <td>1.0</td>\n",
       "      <td>2.0</td>\n",
       "      <td>3.0</td>\n",
       "      <td>NaN</td>\n",
       "      <td>NaN</td>\n",
       "    </tr>\n",
       "  </tbody>\n",
       "</table>\n",
       "</div>"
      ],
      "text/plain": [
       "   col1  col2  col3   col4   col5\n",
       "0   1.0   2.0   3.0   four   five\n",
       "1   1.0   2.0   3.0   Four   Five\n",
       "2   1.0   2.0   3.0  fo ur  fi ve\n",
       "3   1.0   2.0   3.0   four   five\n",
       "4   1.0   2.0   3.0    NaN    NaN"
      ]
     },
     "execution_count": 7,
     "metadata": {},
     "output_type": "execute_result"
    }
   ],
   "source": [
    "# loose code\n",
    "for key, val in dict_impute_min.items():\n",
    "    # impute\n",
    "    df_raw_train_copy[key] = df_raw_train_copy[key].fillna(val, inplace=False)\n",
    "\n",
    "# show\n",
    "df_raw_train_copy"
   ]
  },
  {
   "cell_type": "code",
   "execution_count": 8,
   "id": "e8c87425",
   "metadata": {},
   "outputs": [
    {
     "data": {
      "text/html": [
       "<div>\n",
       "<style scoped>\n",
       "    .dataframe tbody tr th:only-of-type {\n",
       "        vertical-align: middle;\n",
       "    }\n",
       "\n",
       "    .dataframe tbody tr th {\n",
       "        vertical-align: top;\n",
       "    }\n",
       "\n",
       "    .dataframe thead th {\n",
       "        text-align: right;\n",
       "    }\n",
       "</style>\n",
       "<table border=\"1\" class=\"dataframe\">\n",
       "  <thead>\n",
       "    <tr style=\"text-align: right;\">\n",
       "      <th></th>\n",
       "      <th>col1</th>\n",
       "      <th>col2</th>\n",
       "      <th>col3</th>\n",
       "      <th>col4</th>\n",
       "      <th>col5</th>\n",
       "    </tr>\n",
       "  </thead>\n",
       "  <tbody>\n",
       "    <tr>\n",
       "      <th>0</th>\n",
       "      <td>1.0</td>\n",
       "      <td>2.0</td>\n",
       "      <td>3.0</td>\n",
       "      <td>four</td>\n",
       "      <td>five</td>\n",
       "    </tr>\n",
       "    <tr>\n",
       "      <th>1</th>\n",
       "      <td>1.0</td>\n",
       "      <td>2.0</td>\n",
       "      <td>3.0</td>\n",
       "      <td>Four</td>\n",
       "      <td>Five</td>\n",
       "    </tr>\n",
       "    <tr>\n",
       "      <th>2</th>\n",
       "      <td>1.0</td>\n",
       "      <td>2.0</td>\n",
       "      <td>3.0</td>\n",
       "      <td>fo ur</td>\n",
       "      <td>fi ve</td>\n",
       "    </tr>\n",
       "    <tr>\n",
       "      <th>3</th>\n",
       "      <td>1.0</td>\n",
       "      <td>2.0</td>\n",
       "      <td>3.0</td>\n",
       "      <td>four</td>\n",
       "      <td>five</td>\n",
       "    </tr>\n",
       "    <tr>\n",
       "      <th>4</th>\n",
       "      <td>NaN</td>\n",
       "      <td>NaN</td>\n",
       "      <td>NaN</td>\n",
       "      <td>NaN</td>\n",
       "      <td>NaN</td>\n",
       "    </tr>\n",
       "  </tbody>\n",
       "</table>\n",
       "</div>"
      ],
      "text/plain": [
       "   col1  col2  col3   col4   col5\n",
       "0   1.0   2.0   3.0   four   five\n",
       "1   1.0   2.0   3.0   Four   Five\n",
       "2   1.0   2.0   3.0  fo ur  fi ve\n",
       "3   1.0   2.0   3.0   four   five\n",
       "4   NaN   NaN   NaN    NaN    NaN"
      ]
     },
     "execution_count": 8,
     "metadata": {},
     "output_type": "execute_result"
    }
   ],
   "source": [
    "# create copy of the data so we dont edit the originals\n",
    "df_raw_train_copy = df_raw_train.copy()\n",
    "\n",
    "# show\n",
    "df_raw_train_copy"
   ]
  },
  {
   "cell_type": "code",
   "execution_count": 9,
   "id": "c6878808",
   "metadata": {},
   "outputs": [],
   "source": [
    "# function\n",
    "def transform(X, dict_impute_min):\n",
    "    for key, val in dict_impute_min.items():\n",
    "        # impute\n",
    "        X[key] = X[key].fillna(val, inplace=False)\n",
    "    # return X\n",
    "    return X"
   ]
  },
  {
   "cell_type": "code",
   "execution_count": 10,
   "id": "aadd7080",
   "metadata": {},
   "outputs": [
    {
     "data": {
      "text/html": [
       "<div>\n",
       "<style scoped>\n",
       "    .dataframe tbody tr th:only-of-type {\n",
       "        vertical-align: middle;\n",
       "    }\n",
       "\n",
       "    .dataframe tbody tr th {\n",
       "        vertical-align: top;\n",
       "    }\n",
       "\n",
       "    .dataframe thead th {\n",
       "        text-align: right;\n",
       "    }\n",
       "</style>\n",
       "<table border=\"1\" class=\"dataframe\">\n",
       "  <thead>\n",
       "    <tr style=\"text-align: right;\">\n",
       "      <th></th>\n",
       "      <th>col1</th>\n",
       "      <th>col2</th>\n",
       "      <th>col3</th>\n",
       "      <th>col4</th>\n",
       "      <th>col5</th>\n",
       "    </tr>\n",
       "  </thead>\n",
       "  <tbody>\n",
       "    <tr>\n",
       "      <th>0</th>\n",
       "      <td>1.0</td>\n",
       "      <td>2.0</td>\n",
       "      <td>3.0</td>\n",
       "      <td>four</td>\n",
       "      <td>five</td>\n",
       "    </tr>\n",
       "    <tr>\n",
       "      <th>1</th>\n",
       "      <td>1.0</td>\n",
       "      <td>2.0</td>\n",
       "      <td>3.0</td>\n",
       "      <td>Four</td>\n",
       "      <td>Five</td>\n",
       "    </tr>\n",
       "    <tr>\n",
       "      <th>2</th>\n",
       "      <td>1.0</td>\n",
       "      <td>2.0</td>\n",
       "      <td>3.0</td>\n",
       "      <td>fo ur</td>\n",
       "      <td>fi ve</td>\n",
       "    </tr>\n",
       "    <tr>\n",
       "      <th>3</th>\n",
       "      <td>1.0</td>\n",
       "      <td>2.0</td>\n",
       "      <td>3.0</td>\n",
       "      <td>four</td>\n",
       "      <td>five</td>\n",
       "    </tr>\n",
       "    <tr>\n",
       "      <th>4</th>\n",
       "      <td>1.0</td>\n",
       "      <td>2.0</td>\n",
       "      <td>3.0</td>\n",
       "      <td>NaN</td>\n",
       "      <td>NaN</td>\n",
       "    </tr>\n",
       "  </tbody>\n",
       "</table>\n",
       "</div>"
      ],
      "text/plain": [
       "   col1  col2  col3   col4   col5\n",
       "0   1.0   2.0   3.0   four   five\n",
       "1   1.0   2.0   3.0   Four   Five\n",
       "2   1.0   2.0   3.0  fo ur  fi ve\n",
       "3   1.0   2.0   3.0   four   five\n",
       "4   1.0   2.0   3.0    NaN    NaN"
      ]
     },
     "execution_count": 10,
     "metadata": {},
     "output_type": "execute_result"
    }
   ],
   "source": [
    "# transform train\n",
    "df_raw_train_copy = transform(\n",
    "    X=df_raw_train_copy, \n",
    "    dict_impute_min=dict_impute_min,\n",
    ")\n",
    "\n",
    "# show\n",
    "df_raw_train_copy"
   ]
  },
  {
   "cell_type": "markdown",
   "id": "5eb76d73",
   "metadata": {},
   "source": [
    "### Create class"
   ]
  },
  {
   "cell_type": "code",
   "execution_count": 11,
   "id": "f556e4ff",
   "metadata": {},
   "outputs": [
    {
     "data": {
      "text/html": [
       "<div>\n",
       "<style scoped>\n",
       "    .dataframe tbody tr th:only-of-type {\n",
       "        vertical-align: middle;\n",
       "    }\n",
       "\n",
       "    .dataframe tbody tr th {\n",
       "        vertical-align: top;\n",
       "    }\n",
       "\n",
       "    .dataframe thead th {\n",
       "        text-align: right;\n",
       "    }\n",
       "</style>\n",
       "<table border=\"1\" class=\"dataframe\">\n",
       "  <thead>\n",
       "    <tr style=\"text-align: right;\">\n",
       "      <th></th>\n",
       "      <th>col1</th>\n",
       "      <th>col2</th>\n",
       "      <th>col3</th>\n",
       "      <th>col4</th>\n",
       "      <th>col5</th>\n",
       "    </tr>\n",
       "  </thead>\n",
       "  <tbody>\n",
       "    <tr>\n",
       "      <th>0</th>\n",
       "      <td>1.0</td>\n",
       "      <td>2.0</td>\n",
       "      <td>3.0</td>\n",
       "      <td>four</td>\n",
       "      <td>five</td>\n",
       "    </tr>\n",
       "    <tr>\n",
       "      <th>1</th>\n",
       "      <td>1.0</td>\n",
       "      <td>2.0</td>\n",
       "      <td>3.0</td>\n",
       "      <td>Four</td>\n",
       "      <td>Five</td>\n",
       "    </tr>\n",
       "    <tr>\n",
       "      <th>2</th>\n",
       "      <td>1.0</td>\n",
       "      <td>2.0</td>\n",
       "      <td>3.0</td>\n",
       "      <td>fo ur</td>\n",
       "      <td>fi ve</td>\n",
       "    </tr>\n",
       "    <tr>\n",
       "      <th>3</th>\n",
       "      <td>1.0</td>\n",
       "      <td>2.0</td>\n",
       "      <td>3.0</td>\n",
       "      <td>four</td>\n",
       "      <td>five</td>\n",
       "    </tr>\n",
       "    <tr>\n",
       "      <th>4</th>\n",
       "      <td>NaN</td>\n",
       "      <td>NaN</td>\n",
       "      <td>NaN</td>\n",
       "      <td>NaN</td>\n",
       "      <td>NaN</td>\n",
       "    </tr>\n",
       "  </tbody>\n",
       "</table>\n",
       "</div>"
      ],
      "text/plain": [
       "   col1  col2  col3   col4   col5\n",
       "0   1.0   2.0   3.0   four   five\n",
       "1   1.0   2.0   3.0   Four   Five\n",
       "2   1.0   2.0   3.0  fo ur  fi ve\n",
       "3   1.0   2.0   3.0   four   five\n",
       "4   NaN   NaN   NaN    NaN    NaN"
      ]
     },
     "execution_count": 11,
     "metadata": {},
     "output_type": "execute_result"
    }
   ],
   "source": [
    "# create copy of the data so we dont edit the originals\n",
    "df_raw_train_copy = df_raw_train.copy()\n",
    "\n",
    "# show\n",
    "df_raw_train_copy"
   ]
  },
  {
   "cell_type": "code",
   "execution_count": 12,
   "id": "10181802",
   "metadata": {},
   "outputs": [],
   "source": [
    "# class\n",
    "class ImputerNumericMin:\n",
    "    # initialize\n",
    "    def __init__(self):\n",
    "        pass\n",
    "    # fit\n",
    "    def fit(self, X):\n",
    "        dict_impute_min = {}\n",
    "        for col in X.columns:\n",
    "            # get min\n",
    "            try:\n",
    "                val_min = np.min(X[col])\n",
    "                # assign to dict_impute_min\n",
    "                dict_impute_min[col] = val_min\n",
    "            # if non-numeric\n",
    "            except TypeError:\n",
    "                pass\n",
    "        # save to object\n",
    "        self.dict_impute_min = dict_impute_min\n",
    "        # return object\n",
    "        return self\n",
    "    # transform\n",
    "    def transform(self, X):\n",
    "        for key, val in self.dict_impute_min.items():\n",
    "            # impute\n",
    "            X[key] = X[key].fillna(val, inplace=False)\n",
    "        # return X\n",
    "        return X"
   ]
  },
  {
   "cell_type": "code",
   "execution_count": 13,
   "id": "ac2d2239",
   "metadata": {},
   "outputs": [
    {
     "name": "stdout",
     "output_type": "stream",
     "text": [
      "dict_impute_min does not exist, please run fit and check again\n"
     ]
    }
   ],
   "source": [
    "# initialize class\n",
    "cls_imputer_numeric_min = ImputerNumericMin()\n",
    "\n",
    "# show\n",
    "try:\n",
    "    pprint(cls_imputer_numeric_min.dict_impute_min)\n",
    "except AttributeError:\n",
    "    print('dict_impute_min does not exist, please run fit and check again')"
   ]
  },
  {
   "cell_type": "code",
   "execution_count": 14,
   "id": "cd861b40",
   "metadata": {},
   "outputs": [
    {
     "name": "stdout",
     "output_type": "stream",
     "text": [
      "{'col1': 1.0, 'col2': 2.0, 'col3': 3.0}\n"
     ]
    }
   ],
   "source": [
    "# fit train\n",
    "cls_imputer_numeric_min.fit(X=df_raw_train_copy)\n",
    "\n",
    "# show\n",
    "try:\n",
    "    pprint(cls_imputer_numeric_min.dict_impute_min)\n",
    "except AttributeError:\n",
    "    print('dict_impute_min does not exist, please run fit and check again')"
   ]
  },
  {
   "cell_type": "code",
   "execution_count": 15,
   "id": "3715c93e",
   "metadata": {},
   "outputs": [
    {
     "data": {
      "text/html": [
       "<div>\n",
       "<style scoped>\n",
       "    .dataframe tbody tr th:only-of-type {\n",
       "        vertical-align: middle;\n",
       "    }\n",
       "\n",
       "    .dataframe tbody tr th {\n",
       "        vertical-align: top;\n",
       "    }\n",
       "\n",
       "    .dataframe thead th {\n",
       "        text-align: right;\n",
       "    }\n",
       "</style>\n",
       "<table border=\"1\" class=\"dataframe\">\n",
       "  <thead>\n",
       "    <tr style=\"text-align: right;\">\n",
       "      <th></th>\n",
       "      <th>col1</th>\n",
       "      <th>col2</th>\n",
       "      <th>col3</th>\n",
       "      <th>col4</th>\n",
       "      <th>col5</th>\n",
       "    </tr>\n",
       "  </thead>\n",
       "  <tbody>\n",
       "    <tr>\n",
       "      <th>0</th>\n",
       "      <td>1.0</td>\n",
       "      <td>2.0</td>\n",
       "      <td>3.0</td>\n",
       "      <td>four</td>\n",
       "      <td>five</td>\n",
       "    </tr>\n",
       "    <tr>\n",
       "      <th>1</th>\n",
       "      <td>1.0</td>\n",
       "      <td>2.0</td>\n",
       "      <td>3.0</td>\n",
       "      <td>Four</td>\n",
       "      <td>Five</td>\n",
       "    </tr>\n",
       "    <tr>\n",
       "      <th>2</th>\n",
       "      <td>1.0</td>\n",
       "      <td>2.0</td>\n",
       "      <td>3.0</td>\n",
       "      <td>fo ur</td>\n",
       "      <td>fi ve</td>\n",
       "    </tr>\n",
       "    <tr>\n",
       "      <th>3</th>\n",
       "      <td>1.0</td>\n",
       "      <td>2.0</td>\n",
       "      <td>3.0</td>\n",
       "      <td>four</td>\n",
       "      <td>five</td>\n",
       "    </tr>\n",
       "    <tr>\n",
       "      <th>4</th>\n",
       "      <td>1.0</td>\n",
       "      <td>2.0</td>\n",
       "      <td>3.0</td>\n",
       "      <td>NaN</td>\n",
       "      <td>NaN</td>\n",
       "    </tr>\n",
       "  </tbody>\n",
       "</table>\n",
       "</div>"
      ],
      "text/plain": [
       "   col1  col2  col3   col4   col5\n",
       "0   1.0   2.0   3.0   four   five\n",
       "1   1.0   2.0   3.0   Four   Five\n",
       "2   1.0   2.0   3.0  fo ur  fi ve\n",
       "3   1.0   2.0   3.0   four   five\n",
       "4   1.0   2.0   3.0    NaN    NaN"
      ]
     },
     "execution_count": 15,
     "metadata": {},
     "output_type": "execute_result"
    }
   ],
   "source": [
    "# transform train\n",
    "df_raw_train_copy = cls_imputer_numeric_min.transform(X=df_raw_train_copy)\n",
    "\n",
    "# show\n",
    "df_raw_train_copy"
   ]
  },
  {
   "cell_type": "markdown",
   "id": "868d0a03",
   "metadata": {},
   "source": [
    "### But what if the data changes? What if a column is dropped?"
   ]
  },
  {
   "cell_type": "code",
   "execution_count": 16,
   "id": "fc5120c9",
   "metadata": {},
   "outputs": [
    {
     "data": {
      "text/html": [
       "<div>\n",
       "<style scoped>\n",
       "    .dataframe tbody tr th:only-of-type {\n",
       "        vertical-align: middle;\n",
       "    }\n",
       "\n",
       "    .dataframe tbody tr th {\n",
       "        vertical-align: top;\n",
       "    }\n",
       "\n",
       "    .dataframe thead th {\n",
       "        text-align: right;\n",
       "    }\n",
       "</style>\n",
       "<table border=\"1\" class=\"dataframe\">\n",
       "  <thead>\n",
       "    <tr style=\"text-align: right;\">\n",
       "      <th></th>\n",
       "      <th>col1</th>\n",
       "      <th>col2</th>\n",
       "      <th>col4</th>\n",
       "      <th>col5</th>\n",
       "    </tr>\n",
       "  </thead>\n",
       "  <tbody>\n",
       "    <tr>\n",
       "      <th>0</th>\n",
       "      <td>1.0</td>\n",
       "      <td>2.0</td>\n",
       "      <td>four</td>\n",
       "      <td>five</td>\n",
       "    </tr>\n",
       "    <tr>\n",
       "      <th>1</th>\n",
       "      <td>1.0</td>\n",
       "      <td>2.0</td>\n",
       "      <td>Four</td>\n",
       "      <td>Five</td>\n",
       "    </tr>\n",
       "    <tr>\n",
       "      <th>2</th>\n",
       "      <td>1.0</td>\n",
       "      <td>2.0</td>\n",
       "      <td>fo ur</td>\n",
       "      <td>fi ve</td>\n",
       "    </tr>\n",
       "    <tr>\n",
       "      <th>3</th>\n",
       "      <td>1.0</td>\n",
       "      <td>2.0</td>\n",
       "      <td>four</td>\n",
       "      <td>five</td>\n",
       "    </tr>\n",
       "    <tr>\n",
       "      <th>4</th>\n",
       "      <td>NaN</td>\n",
       "      <td>NaN</td>\n",
       "      <td>NaN</td>\n",
       "      <td>NaN</td>\n",
       "    </tr>\n",
       "  </tbody>\n",
       "</table>\n",
       "</div>"
      ],
      "text/plain": [
       "   col1  col2   col4   col5\n",
       "0   1.0   2.0   four   five\n",
       "1   1.0   2.0   Four   Five\n",
       "2   1.0   2.0  fo ur  fi ve\n",
       "3   1.0   2.0   four   five\n",
       "4   NaN   NaN    NaN    NaN"
      ]
     },
     "execution_count": 16,
     "metadata": {},
     "output_type": "execute_result"
    }
   ],
   "source": [
    "# list cols to keep (drop col3)\n",
    "list_cols_keep = [\n",
    "    'col1',\n",
    "    'col2',\n",
    "    'col4',\n",
    "    'col5',\n",
    "]\n",
    "\n",
    "# subset\n",
    "df_raw_train_copy = df_raw_train.copy()[list_cols_keep]\n",
    "\n",
    "# show\n",
    "df_raw_train_copy"
   ]
  },
  {
   "cell_type": "code",
   "execution_count": 17,
   "id": "1f81baca",
   "metadata": {},
   "outputs": [
    {
     "name": "stdout",
     "output_type": "stream",
     "text": [
      "Error! 'col3' not in data\n"
     ]
    }
   ],
   "source": [
    "# transform train\n",
    "try:\n",
    "    df_raw_train_copy = cls_imputer_numeric_min.transform(X=df_raw_train_copy)\n",
    "except KeyError as e:\n",
    "    print(f'Error! {e} not in data')"
   ]
  },
  {
   "cell_type": "markdown",
   "id": "febd0d2e",
   "metadata": {},
   "source": [
    "### Edit the transform function to be dynamic (i.e., will work even if columns are dropped)"
   ]
  },
  {
   "cell_type": "code",
   "execution_count": 18,
   "id": "a75811f9",
   "metadata": {},
   "outputs": [
    {
     "data": {
      "text/html": [
       "<div>\n",
       "<style scoped>\n",
       "    .dataframe tbody tr th:only-of-type {\n",
       "        vertical-align: middle;\n",
       "    }\n",
       "\n",
       "    .dataframe tbody tr th {\n",
       "        vertical-align: top;\n",
       "    }\n",
       "\n",
       "    .dataframe thead th {\n",
       "        text-align: right;\n",
       "    }\n",
       "</style>\n",
       "<table border=\"1\" class=\"dataframe\">\n",
       "  <thead>\n",
       "    <tr style=\"text-align: right;\">\n",
       "      <th></th>\n",
       "      <th>col1</th>\n",
       "      <th>col2</th>\n",
       "      <th>col4</th>\n",
       "      <th>col5</th>\n",
       "    </tr>\n",
       "  </thead>\n",
       "  <tbody>\n",
       "    <tr>\n",
       "      <th>0</th>\n",
       "      <td>1.0</td>\n",
       "      <td>2.0</td>\n",
       "      <td>four</td>\n",
       "      <td>five</td>\n",
       "    </tr>\n",
       "    <tr>\n",
       "      <th>1</th>\n",
       "      <td>1.0</td>\n",
       "      <td>2.0</td>\n",
       "      <td>Four</td>\n",
       "      <td>Five</td>\n",
       "    </tr>\n",
       "    <tr>\n",
       "      <th>2</th>\n",
       "      <td>1.0</td>\n",
       "      <td>2.0</td>\n",
       "      <td>fo ur</td>\n",
       "      <td>fi ve</td>\n",
       "    </tr>\n",
       "    <tr>\n",
       "      <th>3</th>\n",
       "      <td>1.0</td>\n",
       "      <td>2.0</td>\n",
       "      <td>four</td>\n",
       "      <td>five</td>\n",
       "    </tr>\n",
       "    <tr>\n",
       "      <th>4</th>\n",
       "      <td>NaN</td>\n",
       "      <td>NaN</td>\n",
       "      <td>NaN</td>\n",
       "      <td>NaN</td>\n",
       "    </tr>\n",
       "  </tbody>\n",
       "</table>\n",
       "</div>"
      ],
      "text/plain": [
       "   col1  col2   col4   col5\n",
       "0   1.0   2.0   four   five\n",
       "1   1.0   2.0   Four   Five\n",
       "2   1.0   2.0  fo ur  fi ve\n",
       "3   1.0   2.0   four   five\n",
       "4   NaN   NaN    NaN    NaN"
      ]
     },
     "execution_count": 18,
     "metadata": {},
     "output_type": "execute_result"
    }
   ],
   "source": [
    "# subset\n",
    "df_raw_train_copy = df_raw_train.copy()[list_cols_keep]\n",
    "\n",
    "# show\n",
    "df_raw_train_copy"
   ]
  },
  {
   "cell_type": "code",
   "execution_count": 19,
   "id": "964b2a96",
   "metadata": {},
   "outputs": [],
   "source": [
    "# class\n",
    "class ImputerNumericMin:\n",
    "    # initialize\n",
    "    def __init__(self):\n",
    "        pass\n",
    "    # fit\n",
    "    def fit(self, X):\n",
    "        dict_impute_min = {}\n",
    "        for col in X.columns:\n",
    "            # get min\n",
    "            try:\n",
    "                val_min = np.min(X[col])\n",
    "                # assign to dict_impute_min\n",
    "                dict_impute_min[col] = val_min\n",
    "            # if non-numeric\n",
    "            except TypeError:\n",
    "                pass\n",
    "        # save to object\n",
    "        self.dict_impute_min = dict_impute_min\n",
    "        # return object\n",
    "        return self\n",
    "    # transform\n",
    "    def transform(self, X):\n",
    "        # future proof\n",
    "        dict_impute_min = {key: val for key, val in self.dict_impute_min.items() if key in list(X.columns)}\n",
    "        # use the dict_impute_min not saved to self\n",
    "        for key, val in dict_impute_min.items():\n",
    "            # impute\n",
    "            X[key] = X[key].fillna(val, inplace=False)\n",
    "        # return X\n",
    "        return X"
   ]
  },
  {
   "cell_type": "code",
   "execution_count": 20,
   "id": "adf66fe9",
   "metadata": {},
   "outputs": [
    {
     "name": "stdout",
     "output_type": "stream",
     "text": [
      "{'col1': 1.0, 'col2': 2.0, 'col3': 3.0}\n"
     ]
    }
   ],
   "source": [
    "# initialize class\n",
    "cls_imputer_numeric_min = ImputerNumericMin()\n",
    "\n",
    "# fit on full data\n",
    "cls_imputer_numeric_min.fit(X=df_raw_train)\n",
    "\n",
    "# show\n",
    "try:\n",
    "    pprint(cls_imputer_numeric_min.dict_impute_min)\n",
    "except AttributeError:\n",
    "    print('dict_impute_min does not exist, please run fit and check again')"
   ]
  },
  {
   "cell_type": "code",
   "execution_count": 21,
   "id": "380c92f7",
   "metadata": {},
   "outputs": [
    {
     "data": {
      "text/html": [
       "<div>\n",
       "<style scoped>\n",
       "    .dataframe tbody tr th:only-of-type {\n",
       "        vertical-align: middle;\n",
       "    }\n",
       "\n",
       "    .dataframe tbody tr th {\n",
       "        vertical-align: top;\n",
       "    }\n",
       "\n",
       "    .dataframe thead th {\n",
       "        text-align: right;\n",
       "    }\n",
       "</style>\n",
       "<table border=\"1\" class=\"dataframe\">\n",
       "  <thead>\n",
       "    <tr style=\"text-align: right;\">\n",
       "      <th></th>\n",
       "      <th>col1</th>\n",
       "      <th>col2</th>\n",
       "      <th>col4</th>\n",
       "      <th>col5</th>\n",
       "    </tr>\n",
       "  </thead>\n",
       "  <tbody>\n",
       "    <tr>\n",
       "      <th>0</th>\n",
       "      <td>1.0</td>\n",
       "      <td>2.0</td>\n",
       "      <td>four</td>\n",
       "      <td>five</td>\n",
       "    </tr>\n",
       "    <tr>\n",
       "      <th>1</th>\n",
       "      <td>1.0</td>\n",
       "      <td>2.0</td>\n",
       "      <td>Four</td>\n",
       "      <td>Five</td>\n",
       "    </tr>\n",
       "    <tr>\n",
       "      <th>2</th>\n",
       "      <td>1.0</td>\n",
       "      <td>2.0</td>\n",
       "      <td>fo ur</td>\n",
       "      <td>fi ve</td>\n",
       "    </tr>\n",
       "    <tr>\n",
       "      <th>3</th>\n",
       "      <td>1.0</td>\n",
       "      <td>2.0</td>\n",
       "      <td>four</td>\n",
       "      <td>five</td>\n",
       "    </tr>\n",
       "    <tr>\n",
       "      <th>4</th>\n",
       "      <td>1.0</td>\n",
       "      <td>2.0</td>\n",
       "      <td>NaN</td>\n",
       "      <td>NaN</td>\n",
       "    </tr>\n",
       "  </tbody>\n",
       "</table>\n",
       "</div>"
      ],
      "text/plain": [
       "   col1  col2   col4   col5\n",
       "0   1.0   2.0   four   five\n",
       "1   1.0   2.0   Four   Five\n",
       "2   1.0   2.0  fo ur  fi ve\n",
       "3   1.0   2.0   four   five\n",
       "4   1.0   2.0    NaN    NaN"
      ]
     },
     "execution_count": 21,
     "metadata": {},
     "output_type": "execute_result"
    }
   ],
   "source": [
    "# transform train\n",
    "df_raw_train_copy = cls_imputer_numeric_min.transform(X=df_raw_train_copy)\n",
    "\n",
    "# show\n",
    "df_raw_train_copy"
   ]
  },
  {
   "cell_type": "markdown",
   "id": "ecb62ec2",
   "metadata": {},
   "source": [
    "### But, what if the developers need some sort of logging so they can monitor the model in production?"
   ]
  },
  {
   "cell_type": "code",
   "execution_count": 22,
   "id": "a55d0b90",
   "metadata": {},
   "outputs": [],
   "source": [
    "# class\n",
    "class ImputerNumericMin:\n",
    "    # initialize\n",
    "    def __init__(self, str_message='Numeric imputation (minimum)'):\n",
    "        self.str_message = str_message\n",
    "    # fit\n",
    "    def fit(self, X):\n",
    "        dict_impute_min = {}\n",
    "        for col in X.columns:\n",
    "            # get min\n",
    "            try:\n",
    "                val_min = np.min(X[col])\n",
    "                # assign to dict_impute_min\n",
    "                dict_impute_min[col] = val_min\n",
    "            # if non-numeric\n",
    "            except TypeError:\n",
    "                pass\n",
    "        # save to object\n",
    "        self.dict_impute_min = dict_impute_min\n",
    "        # return object\n",
    "        return self\n",
    "    # transform\n",
    "    def transform(self, X):\n",
    "        # future proof\n",
    "        dict_impute_min = {key: val for key, val in self.dict_impute_min.items() if key in list(X.columns)}\n",
    "        # use the dict_impute_min not saved to self\n",
    "        for key, val in dict_impute_min.items():\n",
    "            # impute\n",
    "            X[key] = X[key].fillna(val, inplace=False)\n",
    "        # print message\n",
    "        print(self.str_message)\n",
    "        # return X\n",
    "        return X"
   ]
  },
  {
   "cell_type": "code",
   "execution_count": 23,
   "id": "de913ef0",
   "metadata": {},
   "outputs": [
    {
     "name": "stdout",
     "output_type": "stream",
     "text": [
      "{'col1': 1.0, 'col2': 2.0, 'col3': 3.0}\n"
     ]
    }
   ],
   "source": [
    "# initialize class\n",
    "cls_imputer_numeric_min = ImputerNumericMin(str_message='Numeric imputation (minimum)')\n",
    "\n",
    "# fit on full data\n",
    "cls_imputer_numeric_min.fit(X=df_raw_train)\n",
    "\n",
    "# show\n",
    "try:\n",
    "    pprint(cls_imputer_numeric_min.dict_impute_min)\n",
    "except AttributeError:\n",
    "    print('dict_impute_min does not exist, please run fit and check again')"
   ]
  },
  {
   "cell_type": "code",
   "execution_count": 24,
   "id": "0c192885",
   "metadata": {},
   "outputs": [
    {
     "name": "stdout",
     "output_type": "stream",
     "text": [
      "Numeric imputation (minimum)\n"
     ]
    },
    {
     "data": {
      "text/html": [
       "<div>\n",
       "<style scoped>\n",
       "    .dataframe tbody tr th:only-of-type {\n",
       "        vertical-align: middle;\n",
       "    }\n",
       "\n",
       "    .dataframe tbody tr th {\n",
       "        vertical-align: top;\n",
       "    }\n",
       "\n",
       "    .dataframe thead th {\n",
       "        text-align: right;\n",
       "    }\n",
       "</style>\n",
       "<table border=\"1\" class=\"dataframe\">\n",
       "  <thead>\n",
       "    <tr style=\"text-align: right;\">\n",
       "      <th></th>\n",
       "      <th>col1</th>\n",
       "      <th>col2</th>\n",
       "      <th>col4</th>\n",
       "      <th>col5</th>\n",
       "    </tr>\n",
       "  </thead>\n",
       "  <tbody>\n",
       "    <tr>\n",
       "      <th>0</th>\n",
       "      <td>1.0</td>\n",
       "      <td>2.0</td>\n",
       "      <td>four</td>\n",
       "      <td>five</td>\n",
       "    </tr>\n",
       "    <tr>\n",
       "      <th>1</th>\n",
       "      <td>1.0</td>\n",
       "      <td>2.0</td>\n",
       "      <td>Four</td>\n",
       "      <td>Five</td>\n",
       "    </tr>\n",
       "    <tr>\n",
       "      <th>2</th>\n",
       "      <td>1.0</td>\n",
       "      <td>2.0</td>\n",
       "      <td>fo ur</td>\n",
       "      <td>fi ve</td>\n",
       "    </tr>\n",
       "    <tr>\n",
       "      <th>3</th>\n",
       "      <td>1.0</td>\n",
       "      <td>2.0</td>\n",
       "      <td>four</td>\n",
       "      <td>five</td>\n",
       "    </tr>\n",
       "    <tr>\n",
       "      <th>4</th>\n",
       "      <td>1.0</td>\n",
       "      <td>2.0</td>\n",
       "      <td>NaN</td>\n",
       "      <td>NaN</td>\n",
       "    </tr>\n",
       "  </tbody>\n",
       "</table>\n",
       "</div>"
      ],
      "text/plain": [
       "   col1  col2   col4   col5\n",
       "0   1.0   2.0   four   five\n",
       "1   1.0   2.0   Four   Five\n",
       "2   1.0   2.0  fo ur  fi ve\n",
       "3   1.0   2.0   four   five\n",
       "4   1.0   2.0    NaN    NaN"
      ]
     },
     "execution_count": 24,
     "metadata": {},
     "output_type": "execute_result"
    }
   ],
   "source": [
    "# transform train\n",
    "df_raw_train_copy = cls_imputer_numeric_min.transform(X=df_raw_train_copy)\n",
    "\n",
    "# show\n",
    "df_raw_train_copy"
   ]
  },
  {
   "cell_type": "markdown",
   "id": "7cb416aa",
   "metadata": {},
   "source": [
    "## Non-numeric text cleaner and imputer"
   ]
  },
  {
   "cell_type": "code",
   "execution_count": 25,
   "id": "c206a775",
   "metadata": {},
   "outputs": [],
   "source": [
    "# class\n",
    "class CleanAndImputeText:\n",
    "    # initialize\n",
    "    def __init__(self, str_message='Lower and strip text'):\n",
    "        self.str_message = str_message\n",
    "    # fit\n",
    "    def fit(self, X):\n",
    "        # get non-numeric columns\n",
    "        list_clean_and_impute = [col for col in list(X.columns) if not is_numeric_dtype(X[col])]\n",
    "        # save to object\n",
    "        self.list_clean_and_impute = list_clean_and_impute\n",
    "        # return object\n",
    "        return self\n",
    "    # transform\n",
    "    def transform(self, X):\n",
    "        # future-proof\n",
    "        list_clean_and_impute = [col for col in self.list_clean_and_impute if col in list(X.columns)]\n",
    "        # iterate\n",
    "        for col in list_clean_and_impute:\n",
    "            X[col] = X[col].astype(str).str.lower().str.replace(' ','')\n",
    "        # print message\n",
    "        print(self.str_message)\n",
    "        # return X\n",
    "        return X"
   ]
  },
  {
   "cell_type": "code",
   "execution_count": 26,
   "id": "d413424f",
   "metadata": {},
   "outputs": [
    {
     "name": "stdout",
     "output_type": "stream",
     "text": [
      "['col4', 'col5']\n"
     ]
    }
   ],
   "source": [
    "# initialize class\n",
    "cls_clean_and_impute = CleanAndImputeText(str_message='Lower and strip text')\n",
    "\n",
    "# fit to train\n",
    "cls_clean_and_impute.fit(X=df_raw_train)\n",
    "\n",
    "# print list\n",
    "pprint(cls_clean_and_impute.list_clean_and_impute)"
   ]
  },
  {
   "cell_type": "code",
   "execution_count": 27,
   "id": "f15f8766",
   "metadata": {},
   "outputs": [
    {
     "name": "stdout",
     "output_type": "stream",
     "text": [
      "Lower and strip text\n"
     ]
    },
    {
     "data": {
      "text/html": [
       "<div>\n",
       "<style scoped>\n",
       "    .dataframe tbody tr th:only-of-type {\n",
       "        vertical-align: middle;\n",
       "    }\n",
       "\n",
       "    .dataframe tbody tr th {\n",
       "        vertical-align: top;\n",
       "    }\n",
       "\n",
       "    .dataframe thead th {\n",
       "        text-align: right;\n",
       "    }\n",
       "</style>\n",
       "<table border=\"1\" class=\"dataframe\">\n",
       "  <thead>\n",
       "    <tr style=\"text-align: right;\">\n",
       "      <th></th>\n",
       "      <th>col1</th>\n",
       "      <th>col2</th>\n",
       "      <th>col4</th>\n",
       "      <th>col5</th>\n",
       "    </tr>\n",
       "  </thead>\n",
       "  <tbody>\n",
       "    <tr>\n",
       "      <th>0</th>\n",
       "      <td>1.0</td>\n",
       "      <td>2.0</td>\n",
       "      <td>four</td>\n",
       "      <td>five</td>\n",
       "    </tr>\n",
       "    <tr>\n",
       "      <th>1</th>\n",
       "      <td>1.0</td>\n",
       "      <td>2.0</td>\n",
       "      <td>four</td>\n",
       "      <td>five</td>\n",
       "    </tr>\n",
       "    <tr>\n",
       "      <th>2</th>\n",
       "      <td>1.0</td>\n",
       "      <td>2.0</td>\n",
       "      <td>four</td>\n",
       "      <td>five</td>\n",
       "    </tr>\n",
       "    <tr>\n",
       "      <th>3</th>\n",
       "      <td>1.0</td>\n",
       "      <td>2.0</td>\n",
       "      <td>four</td>\n",
       "      <td>five</td>\n",
       "    </tr>\n",
       "    <tr>\n",
       "      <th>4</th>\n",
       "      <td>1.0</td>\n",
       "      <td>2.0</td>\n",
       "      <td>nan</td>\n",
       "      <td>nan</td>\n",
       "    </tr>\n",
       "  </tbody>\n",
       "</table>\n",
       "</div>"
      ],
      "text/plain": [
       "   col1  col2  col4  col5\n",
       "0   1.0   2.0  four  five\n",
       "1   1.0   2.0  four  five\n",
       "2   1.0   2.0  four  five\n",
       "3   1.0   2.0  four  five\n",
       "4   1.0   2.0   nan   nan"
      ]
     },
     "execution_count": 27,
     "metadata": {},
     "output_type": "execute_result"
    }
   ],
   "source": [
    "# transform train\n",
    "df_raw_train_copy = cls_clean_and_impute.transform(X=df_raw_train_copy)\n",
    "\n",
    "# show\n",
    "df_raw_train_copy"
   ]
  },
  {
   "cell_type": "code",
   "execution_count": 28,
   "id": "4b61ef78",
   "metadata": {},
   "outputs": [
    {
     "name": "stdout",
     "output_type": "stream",
     "text": [
      "Success\n"
     ]
    }
   ],
   "source": [
    "# check the last row of col4\n",
    "if df_raw_train_copy['col4'].iloc[-1] == 'nan':\n",
    "    print('Success')\n",
    "else:\n",
    "    print('Error')"
   ]
  },
  {
   "cell_type": "markdown",
   "id": "91aed012",
   "metadata": {},
   "source": [
    "## Preprocessing model"
   ]
  },
  {
   "cell_type": "code",
   "execution_count": 29,
   "id": "c1f7a55f",
   "metadata": {},
   "outputs": [
    {
     "data": {
      "text/html": [
       "<div>\n",
       "<style scoped>\n",
       "    .dataframe tbody tr th:only-of-type {\n",
       "        vertical-align: middle;\n",
       "    }\n",
       "\n",
       "    .dataframe tbody tr th {\n",
       "        vertical-align: top;\n",
       "    }\n",
       "\n",
       "    .dataframe thead th {\n",
       "        text-align: right;\n",
       "    }\n",
       "</style>\n",
       "<table border=\"1\" class=\"dataframe\">\n",
       "  <thead>\n",
       "    <tr style=\"text-align: right;\">\n",
       "      <th></th>\n",
       "      <th>col1</th>\n",
       "      <th>col2</th>\n",
       "      <th>col5</th>\n",
       "    </tr>\n",
       "  </thead>\n",
       "  <tbody>\n",
       "    <tr>\n",
       "      <th>0</th>\n",
       "      <td>1.0</td>\n",
       "      <td>2.0</td>\n",
       "      <td>five</td>\n",
       "    </tr>\n",
       "    <tr>\n",
       "      <th>1</th>\n",
       "      <td>1.0</td>\n",
       "      <td>2.0</td>\n",
       "      <td>Five</td>\n",
       "    </tr>\n",
       "    <tr>\n",
       "      <th>2</th>\n",
       "      <td>1.0</td>\n",
       "      <td>2.0</td>\n",
       "      <td>fi ve</td>\n",
       "    </tr>\n",
       "    <tr>\n",
       "      <th>3</th>\n",
       "      <td>1.0</td>\n",
       "      <td>2.0</td>\n",
       "      <td>five</td>\n",
       "    </tr>\n",
       "    <tr>\n",
       "      <th>4</th>\n",
       "      <td>NaN</td>\n",
       "      <td>NaN</td>\n",
       "      <td>NaN</td>\n",
       "    </tr>\n",
       "  </tbody>\n",
       "</table>\n",
       "</div>"
      ],
      "text/plain": [
       "   col1  col2   col5\n",
       "0   1.0   2.0   five\n",
       "1   1.0   2.0   Five\n",
       "2   1.0   2.0  fi ve\n",
       "3   1.0   2.0   five\n",
       "4   NaN   NaN    NaN"
      ]
     },
     "execution_count": 29,
     "metadata": {},
     "output_type": "execute_result"
    }
   ],
   "source": [
    "# list cols to keep (drop col3 and col 4)\n",
    "list_cols_keep = [\n",
    "    'col1',\n",
    "    'col2',\n",
    "    'col5',\n",
    "]\n",
    "\n",
    "# subset\n",
    "df_raw_train_copy = df_raw_train.copy()[list_cols_keep]\n",
    "\n",
    "# show\n",
    "df_raw_train_copy"
   ]
  },
  {
   "cell_type": "code",
   "execution_count": 30,
   "id": "90317722",
   "metadata": {},
   "outputs": [
    {
     "name": "stdout",
     "output_type": "stream",
     "text": [
      "{'col1': 1.0, 'col2': 2.0, 'col3': 3.0}\n"
     ]
    }
   ],
   "source": [
    "# initialize class\n",
    "cls_imputer_numeric_min = ImputerNumericMin(str_message='Numeric imputation (minimum)')\n",
    "\n",
    "# fit on training\n",
    "cls_imputer_numeric_min.fit(X=df_raw_train)\n",
    "\n",
    "# print\n",
    "pprint(cls_imputer_numeric_min.dict_impute_min)"
   ]
  },
  {
   "cell_type": "code",
   "execution_count": 31,
   "id": "b14e0c07",
   "metadata": {},
   "outputs": [
    {
     "name": "stdout",
     "output_type": "stream",
     "text": [
      "['col4', 'col5']\n"
     ]
    }
   ],
   "source": [
    "# initialize class\n",
    "cls_clean_and_impute = CleanAndImputeText(str_message='Lower and strip text')\n",
    "\n",
    "# fit on training\n",
    "cls_clean_and_impute.fit(X=df_raw_train)\n",
    "\n",
    "# print\n",
    "pprint(cls_clean_and_impute.list_clean_and_impute)"
   ]
  },
  {
   "cell_type": "code",
   "execution_count": 32,
   "id": "ff7db12f",
   "metadata": {},
   "outputs": [],
   "source": [
    "# put into list\n",
    "list_transformers = [\n",
    "    cls_imputer_numeric_min,\n",
    "    cls_clean_and_impute,\n",
    "]"
   ]
  },
  {
   "cell_type": "code",
   "execution_count": 33,
   "id": "fa8d847b",
   "metadata": {},
   "outputs": [
    {
     "name": "stdout",
     "output_type": "stream",
     "text": [
      "Numeric imputation (minimum)\n",
      "Lower and strip text\n"
     ]
    },
    {
     "data": {
      "text/html": [
       "<div>\n",
       "<style scoped>\n",
       "    .dataframe tbody tr th:only-of-type {\n",
       "        vertical-align: middle;\n",
       "    }\n",
       "\n",
       "    .dataframe tbody tr th {\n",
       "        vertical-align: top;\n",
       "    }\n",
       "\n",
       "    .dataframe thead th {\n",
       "        text-align: right;\n",
       "    }\n",
       "</style>\n",
       "<table border=\"1\" class=\"dataframe\">\n",
       "  <thead>\n",
       "    <tr style=\"text-align: right;\">\n",
       "      <th></th>\n",
       "      <th>col1</th>\n",
       "      <th>col2</th>\n",
       "      <th>col5</th>\n",
       "    </tr>\n",
       "  </thead>\n",
       "  <tbody>\n",
       "    <tr>\n",
       "      <th>0</th>\n",
       "      <td>1.0</td>\n",
       "      <td>2.0</td>\n",
       "      <td>five</td>\n",
       "    </tr>\n",
       "    <tr>\n",
       "      <th>1</th>\n",
       "      <td>1.0</td>\n",
       "      <td>2.0</td>\n",
       "      <td>five</td>\n",
       "    </tr>\n",
       "    <tr>\n",
       "      <th>2</th>\n",
       "      <td>1.0</td>\n",
       "      <td>2.0</td>\n",
       "      <td>five</td>\n",
       "    </tr>\n",
       "    <tr>\n",
       "      <th>3</th>\n",
       "      <td>1.0</td>\n",
       "      <td>2.0</td>\n",
       "      <td>five</td>\n",
       "    </tr>\n",
       "    <tr>\n",
       "      <th>4</th>\n",
       "      <td>1.0</td>\n",
       "      <td>2.0</td>\n",
       "      <td>nan</td>\n",
       "    </tr>\n",
       "  </tbody>\n",
       "</table>\n",
       "</div>"
      ],
      "text/plain": [
       "   col1  col2  col5\n",
       "0   1.0   2.0  five\n",
       "1   1.0   2.0  five\n",
       "2   1.0   2.0  five\n",
       "3   1.0   2.0  five\n",
       "4   1.0   2.0   nan"
      ]
     },
     "execution_count": 33,
     "metadata": {},
     "output_type": "execute_result"
    }
   ],
   "source": [
    "# iterate and transform train\n",
    "for transformer in list_transformers:\n",
    "    df_raw_train_copy = transformer.transform(X=df_raw_train_copy)\n",
    "\n",
    "# show\n",
    "df_raw_train_copy"
   ]
  },
  {
   "cell_type": "markdown",
   "id": "fdb45326",
   "metadata": {},
   "source": [
    "### Create class"
   ]
  },
  {
   "cell_type": "code",
   "execution_count": 34,
   "id": "d27645cd",
   "metadata": {},
   "outputs": [
    {
     "data": {
      "text/html": [
       "<div>\n",
       "<style scoped>\n",
       "    .dataframe tbody tr th:only-of-type {\n",
       "        vertical-align: middle;\n",
       "    }\n",
       "\n",
       "    .dataframe tbody tr th {\n",
       "        vertical-align: top;\n",
       "    }\n",
       "\n",
       "    .dataframe thead th {\n",
       "        text-align: right;\n",
       "    }\n",
       "</style>\n",
       "<table border=\"1\" class=\"dataframe\">\n",
       "  <thead>\n",
       "    <tr style=\"text-align: right;\">\n",
       "      <th></th>\n",
       "      <th>col1</th>\n",
       "      <th>col2</th>\n",
       "      <th>col5</th>\n",
       "    </tr>\n",
       "  </thead>\n",
       "  <tbody>\n",
       "    <tr>\n",
       "      <th>0</th>\n",
       "      <td>1.0</td>\n",
       "      <td>2.0</td>\n",
       "      <td>five</td>\n",
       "    </tr>\n",
       "    <tr>\n",
       "      <th>1</th>\n",
       "      <td>1.0</td>\n",
       "      <td>2.0</td>\n",
       "      <td>Five</td>\n",
       "    </tr>\n",
       "    <tr>\n",
       "      <th>2</th>\n",
       "      <td>1.0</td>\n",
       "      <td>2.0</td>\n",
       "      <td>fi ve</td>\n",
       "    </tr>\n",
       "    <tr>\n",
       "      <th>3</th>\n",
       "      <td>1.0</td>\n",
       "      <td>2.0</td>\n",
       "      <td>five</td>\n",
       "    </tr>\n",
       "    <tr>\n",
       "      <th>4</th>\n",
       "      <td>NaN</td>\n",
       "      <td>NaN</td>\n",
       "      <td>NaN</td>\n",
       "    </tr>\n",
       "  </tbody>\n",
       "</table>\n",
       "</div>"
      ],
      "text/plain": [
       "   col1  col2   col5\n",
       "0   1.0   2.0   five\n",
       "1   1.0   2.0   Five\n",
       "2   1.0   2.0  fi ve\n",
       "3   1.0   2.0   five\n",
       "4   NaN   NaN    NaN"
      ]
     },
     "execution_count": 34,
     "metadata": {},
     "output_type": "execute_result"
    }
   ],
   "source": [
    "# list cols to keep (drop col3 and col 4)\n",
    "list_cols_keep = [\n",
    "    'col1',\n",
    "    'col2',\n",
    "    'col5',\n",
    "]\n",
    "\n",
    "# subset\n",
    "df_raw_train_copy = df_raw_train.copy()[list_cols_keep]\n",
    "\n",
    "# show\n",
    "df_raw_train_copy"
   ]
  },
  {
   "cell_type": "code",
   "execution_count": 35,
   "id": "0e5c6eb5",
   "metadata": {},
   "outputs": [
    {
     "data": {
      "text/html": [
       "<div>\n",
       "<style scoped>\n",
       "    .dataframe tbody tr th:only-of-type {\n",
       "        vertical-align: middle;\n",
       "    }\n",
       "\n",
       "    .dataframe tbody tr th {\n",
       "        vertical-align: top;\n",
       "    }\n",
       "\n",
       "    .dataframe thead th {\n",
       "        text-align: right;\n",
       "    }\n",
       "</style>\n",
       "<table border=\"1\" class=\"dataframe\">\n",
       "  <thead>\n",
       "    <tr style=\"text-align: right;\">\n",
       "      <th></th>\n",
       "      <th>col1</th>\n",
       "      <th>col2</th>\n",
       "      <th>col5</th>\n",
       "    </tr>\n",
       "  </thead>\n",
       "  <tbody>\n",
       "    <tr>\n",
       "      <th>0</th>\n",
       "      <td>NaN</td>\n",
       "      <td>NaN</td>\n",
       "      <td>NaN</td>\n",
       "    </tr>\n",
       "    <tr>\n",
       "      <th>1</th>\n",
       "      <td>NaN</td>\n",
       "      <td>NaN</td>\n",
       "      <td>NaN</td>\n",
       "    </tr>\n",
       "  </tbody>\n",
       "</table>\n",
       "</div>"
      ],
      "text/plain": [
       "   col1  col2  col5\n",
       "0   NaN   NaN   NaN\n",
       "1   NaN   NaN   NaN"
      ]
     },
     "execution_count": 35,
     "metadata": {},
     "output_type": "execute_result"
    }
   ],
   "source": [
    "# subset\n",
    "df_raw_test_copy = df_raw_test.copy()[list_cols_keep]\n",
    "\n",
    "# show\n",
    "df_raw_test_copy"
   ]
  },
  {
   "cell_type": "code",
   "execution_count": 36,
   "id": "e8267a61",
   "metadata": {},
   "outputs": [],
   "source": [
    "# class\n",
    "class PreprocessingModel:\n",
    "    # initialize\n",
    "    def __init__(self, list_transformers):\n",
    "        self.list_transformers = list_transformers\n",
    "    # transform\n",
    "    def transform(self, X):\n",
    "        # iterate through transformers\n",
    "        for transformer in self.list_transformers:\n",
    "            X = transformer.transform(X=X)\n",
    "        # return X\n",
    "        return X"
   ]
  },
  {
   "cell_type": "code",
   "execution_count": 37,
   "id": "41a6e782",
   "metadata": {},
   "outputs": [],
   "source": [
    "# initialize\n",
    "cls_preprocessing_model = PreprocessingModel(list_transformers=list_transformers)"
   ]
  },
  {
   "cell_type": "code",
   "execution_count": 38,
   "id": "20b33b2f",
   "metadata": {},
   "outputs": [
    {
     "name": "stdout",
     "output_type": "stream",
     "text": [
      "Numeric imputation (minimum)\n",
      "Lower and strip text\n"
     ]
    },
    {
     "data": {
      "text/html": [
       "<div>\n",
       "<style scoped>\n",
       "    .dataframe tbody tr th:only-of-type {\n",
       "        vertical-align: middle;\n",
       "    }\n",
       "\n",
       "    .dataframe tbody tr th {\n",
       "        vertical-align: top;\n",
       "    }\n",
       "\n",
       "    .dataframe thead th {\n",
       "        text-align: right;\n",
       "    }\n",
       "</style>\n",
       "<table border=\"1\" class=\"dataframe\">\n",
       "  <thead>\n",
       "    <tr style=\"text-align: right;\">\n",
       "      <th></th>\n",
       "      <th>col1</th>\n",
       "      <th>col2</th>\n",
       "      <th>col5</th>\n",
       "    </tr>\n",
       "  </thead>\n",
       "  <tbody>\n",
       "    <tr>\n",
       "      <th>0</th>\n",
       "      <td>1.0</td>\n",
       "      <td>2.0</td>\n",
       "      <td>five</td>\n",
       "    </tr>\n",
       "    <tr>\n",
       "      <th>1</th>\n",
       "      <td>1.0</td>\n",
       "      <td>2.0</td>\n",
       "      <td>five</td>\n",
       "    </tr>\n",
       "    <tr>\n",
       "      <th>2</th>\n",
       "      <td>1.0</td>\n",
       "      <td>2.0</td>\n",
       "      <td>five</td>\n",
       "    </tr>\n",
       "    <tr>\n",
       "      <th>3</th>\n",
       "      <td>1.0</td>\n",
       "      <td>2.0</td>\n",
       "      <td>five</td>\n",
       "    </tr>\n",
       "    <tr>\n",
       "      <th>4</th>\n",
       "      <td>1.0</td>\n",
       "      <td>2.0</td>\n",
       "      <td>nan</td>\n",
       "    </tr>\n",
       "  </tbody>\n",
       "</table>\n",
       "</div>"
      ],
      "text/plain": [
       "   col1  col2  col5\n",
       "0   1.0   2.0  five\n",
       "1   1.0   2.0  five\n",
       "2   1.0   2.0  five\n",
       "3   1.0   2.0  five\n",
       "4   1.0   2.0   nan"
      ]
     },
     "execution_count": 38,
     "metadata": {},
     "output_type": "execute_result"
    }
   ],
   "source": [
    "# transform train\n",
    "df_raw_train_copy = cls_preprocessing_model.transform(X=df_raw_train_copy)\n",
    "\n",
    "# show\n",
    "df_raw_train_copy"
   ]
  },
  {
   "cell_type": "code",
   "execution_count": 39,
   "id": "eed9d9ba",
   "metadata": {},
   "outputs": [
    {
     "name": "stdout",
     "output_type": "stream",
     "text": [
      "Numeric imputation (minimum)\n",
      "Lower and strip text\n"
     ]
    },
    {
     "data": {
      "text/html": [
       "<div>\n",
       "<style scoped>\n",
       "    .dataframe tbody tr th:only-of-type {\n",
       "        vertical-align: middle;\n",
       "    }\n",
       "\n",
       "    .dataframe tbody tr th {\n",
       "        vertical-align: top;\n",
       "    }\n",
       "\n",
       "    .dataframe thead th {\n",
       "        text-align: right;\n",
       "    }\n",
       "</style>\n",
       "<table border=\"1\" class=\"dataframe\">\n",
       "  <thead>\n",
       "    <tr style=\"text-align: right;\">\n",
       "      <th></th>\n",
       "      <th>col1</th>\n",
       "      <th>col2</th>\n",
       "      <th>col5</th>\n",
       "    </tr>\n",
       "  </thead>\n",
       "  <tbody>\n",
       "    <tr>\n",
       "      <th>0</th>\n",
       "      <td>1.0</td>\n",
       "      <td>2.0</td>\n",
       "      <td>nan</td>\n",
       "    </tr>\n",
       "    <tr>\n",
       "      <th>1</th>\n",
       "      <td>1.0</td>\n",
       "      <td>2.0</td>\n",
       "      <td>nan</td>\n",
       "    </tr>\n",
       "  </tbody>\n",
       "</table>\n",
       "</div>"
      ],
      "text/plain": [
       "   col1  col2 col5\n",
       "0   1.0   2.0  nan\n",
       "1   1.0   2.0  nan"
      ]
     },
     "execution_count": 39,
     "metadata": {},
     "output_type": "execute_result"
    }
   ],
   "source": [
    "# transform test\n",
    "df_raw_test_copy = cls_preprocessing_model.transform(X=df_raw_test_copy)\n",
    "\n",
    "# show\n",
    "df_raw_test_copy"
   ]
  },
  {
   "cell_type": "markdown",
   "id": "240fab5a",
   "metadata": {},
   "source": [
    "## Pickle preprocessing model, load it, and use it"
   ]
  },
  {
   "cell_type": "code",
   "execution_count": 40,
   "id": "0d2dcca2",
   "metadata": {},
   "outputs": [
    {
     "data": {
      "text/html": [
       "<div>\n",
       "<style scoped>\n",
       "    .dataframe tbody tr th:only-of-type {\n",
       "        vertical-align: middle;\n",
       "    }\n",
       "\n",
       "    .dataframe tbody tr th {\n",
       "        vertical-align: top;\n",
       "    }\n",
       "\n",
       "    .dataframe thead th {\n",
       "        text-align: right;\n",
       "    }\n",
       "</style>\n",
       "<table border=\"1\" class=\"dataframe\">\n",
       "  <thead>\n",
       "    <tr style=\"text-align: right;\">\n",
       "      <th></th>\n",
       "      <th>col1</th>\n",
       "      <th>col2</th>\n",
       "      <th>col5</th>\n",
       "    </tr>\n",
       "  </thead>\n",
       "  <tbody>\n",
       "    <tr>\n",
       "      <th>0</th>\n",
       "      <td>1.0</td>\n",
       "      <td>2.0</td>\n",
       "      <td>five</td>\n",
       "    </tr>\n",
       "    <tr>\n",
       "      <th>1</th>\n",
       "      <td>1.0</td>\n",
       "      <td>2.0</td>\n",
       "      <td>Five</td>\n",
       "    </tr>\n",
       "    <tr>\n",
       "      <th>2</th>\n",
       "      <td>1.0</td>\n",
       "      <td>2.0</td>\n",
       "      <td>fi ve</td>\n",
       "    </tr>\n",
       "    <tr>\n",
       "      <th>3</th>\n",
       "      <td>1.0</td>\n",
       "      <td>2.0</td>\n",
       "      <td>five</td>\n",
       "    </tr>\n",
       "    <tr>\n",
       "      <th>4</th>\n",
       "      <td>NaN</td>\n",
       "      <td>NaN</td>\n",
       "      <td>NaN</td>\n",
       "    </tr>\n",
       "  </tbody>\n",
       "</table>\n",
       "</div>"
      ],
      "text/plain": [
       "   col1  col2   col5\n",
       "0   1.0   2.0   five\n",
       "1   1.0   2.0   Five\n",
       "2   1.0   2.0  fi ve\n",
       "3   1.0   2.0   five\n",
       "4   NaN   NaN    NaN"
      ]
     },
     "execution_count": 40,
     "metadata": {},
     "output_type": "execute_result"
    }
   ],
   "source": [
    "# list cols to keep (drop col3 and col 4)\n",
    "list_cols_keep = [\n",
    "    'col1',\n",
    "    'col2',\n",
    "    'col5',\n",
    "]\n",
    "\n",
    "# subset\n",
    "df_raw_train_copy = df_raw_train.copy()[list_cols_keep]\n",
    "\n",
    "# show\n",
    "df_raw_train_copy"
   ]
  },
  {
   "cell_type": "code",
   "execution_count": 41,
   "id": "4b4e24c2",
   "metadata": {},
   "outputs": [
    {
     "name": "stdout",
     "output_type": "stream",
     "text": [
      "['.git',\n",
      " '.gitignore',\n",
      " '.ipynb_checkpoints',\n",
      " 'dynamic_preprocessing_models.ipynb']\n"
     ]
    }
   ],
   "source": [
    "# show files\n",
    "pprint(os.listdir())"
   ]
  },
  {
   "cell_type": "code",
   "execution_count": 42,
   "id": "9ebf993a",
   "metadata": {},
   "outputs": [
    {
     "name": "stdout",
     "output_type": "stream",
     "text": [
      "['.git',\n",
      " '.gitignore',\n",
      " '.ipynb_checkpoints',\n",
      " 'cls_model_preprocessing.pkl',\n",
      " 'dynamic_preprocessing_models.ipynb']\n"
     ]
    }
   ],
   "source": [
    "# filename\n",
    "str_filename = './cls_model_preprocessing.pkl'\n",
    "\n",
    "# pickle\n",
    "pickle.dump(cls_preprocessing_model, open(str_filename, 'wb'))\n",
    "\n",
    "# show files\n",
    "pprint(os.listdir())\n",
    "\n",
    "# load\n",
    "cls_preprocessing_model = pickle.load(open(str_filename, 'rb'))\n",
    "\n",
    "# rm\n",
    "os.remove(str_filename)"
   ]
  },
  {
   "cell_type": "code",
   "execution_count": 43,
   "id": "1e6d9872",
   "metadata": {},
   "outputs": [
    {
     "name": "stdout",
     "output_type": "stream",
     "text": [
      "Numeric imputation (minimum)\n",
      "Lower and strip text\n"
     ]
    },
    {
     "data": {
      "text/html": [
       "<div>\n",
       "<style scoped>\n",
       "    .dataframe tbody tr th:only-of-type {\n",
       "        vertical-align: middle;\n",
       "    }\n",
       "\n",
       "    .dataframe tbody tr th {\n",
       "        vertical-align: top;\n",
       "    }\n",
       "\n",
       "    .dataframe thead th {\n",
       "        text-align: right;\n",
       "    }\n",
       "</style>\n",
       "<table border=\"1\" class=\"dataframe\">\n",
       "  <thead>\n",
       "    <tr style=\"text-align: right;\">\n",
       "      <th></th>\n",
       "      <th>col1</th>\n",
       "      <th>col2</th>\n",
       "      <th>col5</th>\n",
       "    </tr>\n",
       "  </thead>\n",
       "  <tbody>\n",
       "    <tr>\n",
       "      <th>0</th>\n",
       "      <td>1.0</td>\n",
       "      <td>2.0</td>\n",
       "      <td>five</td>\n",
       "    </tr>\n",
       "    <tr>\n",
       "      <th>1</th>\n",
       "      <td>1.0</td>\n",
       "      <td>2.0</td>\n",
       "      <td>five</td>\n",
       "    </tr>\n",
       "    <tr>\n",
       "      <th>2</th>\n",
       "      <td>1.0</td>\n",
       "      <td>2.0</td>\n",
       "      <td>five</td>\n",
       "    </tr>\n",
       "    <tr>\n",
       "      <th>3</th>\n",
       "      <td>1.0</td>\n",
       "      <td>2.0</td>\n",
       "      <td>five</td>\n",
       "    </tr>\n",
       "    <tr>\n",
       "      <th>4</th>\n",
       "      <td>1.0</td>\n",
       "      <td>2.0</td>\n",
       "      <td>nan</td>\n",
       "    </tr>\n",
       "  </tbody>\n",
       "</table>\n",
       "</div>"
      ],
      "text/plain": [
       "   col1  col2  col5\n",
       "0   1.0   2.0  five\n",
       "1   1.0   2.0  five\n",
       "2   1.0   2.0  five\n",
       "3   1.0   2.0  five\n",
       "4   1.0   2.0   nan"
      ]
     },
     "execution_count": 43,
     "metadata": {},
     "output_type": "execute_result"
    }
   ],
   "source": [
    "# transform\n",
    "df_raw_train_copy = cls_preprocessing_model.transform(X=df_raw_train_copy)\n",
    "\n",
    "# show\n",
    "df_raw_train_copy"
   ]
  },
  {
   "cell_type": "markdown",
   "id": "b7e7bad4",
   "metadata": {},
   "source": [
    "## Make python library [preprocessing_toolbox_example](https://github.com/gopfsrisk/preprocessing_toolbox_example)"
   ]
  },
  {
   "cell_type": "markdown",
   "id": "ce80f560",
   "metadata": {},
   "source": [
    "### Folder structure"
   ]
  },
  {
   "cell_type": "code",
   "execution_count": 44,
   "id": "22a85a66",
   "metadata": {},
   "outputs": [],
   "source": [
    "# preprocessing_toolbox_example\n",
    "#     |_____ .gitignore\n",
    "#     |_____ setup.py\n",
    "#     |_____ preprocessing_toolbox_example\n",
    "#                 |_____ preprocessing.py\n",
    "#                 |_____ __init__.py"
   ]
  },
  {
   "cell_type": "markdown",
   "id": "345c78da",
   "metadata": {},
   "source": [
    "### Create root folder"
   ]
  },
  {
   "cell_type": "code",
   "execution_count": 45,
   "id": "805150ad",
   "metadata": {},
   "outputs": [
    {
     "name": "stdout",
     "output_type": "stream",
     "text": [
      "Successfully created the root directory ../preprocessing_toolbox_example\n"
     ]
    }
   ],
   "source": [
    "# dirname\n",
    "str_dirname_root = 'preprocessing_toolbox_example'\n",
    "# dirname\n",
    "str_dirname_root_new = f'../{str_dirname_root}'\n",
    "\n",
    "# mkdir\n",
    "try:\n",
    "    os.mkdir(str_dirname_root_new)\n",
    "    print(f'Successfully created the root directory {str_dirname_root_new}')\n",
    "except FileExistsError:\n",
    "    print(f'The root directory {str_dirname_root_new} already exists')"
   ]
  },
  {
   "cell_type": "code",
   "execution_count": 46,
   "id": "352fdae7",
   "metadata": {},
   "outputs": [
    {
     "name": "stdout",
     "output_type": "stream",
     "text": [
      "Items in ../preprocessing_toolbox_example: []\n"
     ]
    }
   ],
   "source": [
    "# show objects in str_dirname_root\n",
    "print(f'Items in {str_dirname_root_new}: {os.listdir(str_dirname_root_new)}')"
   ]
  },
  {
   "cell_type": "markdown",
   "id": "92f5abfe",
   "metadata": {},
   "source": [
    "### Write ```.gitignore``` to root directory"
   ]
  },
  {
   "cell_type": "code",
   "execution_count": 47,
   "id": "7476aa26",
   "metadata": {},
   "outputs": [
    {
     "name": "stdout",
     "output_type": "stream",
     "text": [
      "Writing ../preprocessing_toolbox_example/.gitignore\n"
     ]
    }
   ],
   "source": [
    "%%writefile ../preprocessing_toolbox_example/.gitignore\n",
    "# Byte-compiled / optimized / DLL files\n",
    "__pycache__/\n",
    "*.py[cod]\n",
    "*$py.class\n",
    "\n",
    "# C extensions\n",
    "*.so\n",
    "\n",
    "# Distribution / packaging\n",
    ".Python\n",
    "build/\n",
    "develop-eggs/\n",
    "dist/\n",
    "downloads/\n",
    "eggs/\n",
    ".eggs/\n",
    "lib/\n",
    "lib64/\n",
    "parts/\n",
    "sdist/\n",
    "var/\n",
    "wheels/\n",
    "pip-wheel-metadata/\n",
    "share/python-wheels/\n",
    "*.egg-info/\n",
    ".installed.cfg\n",
    "*.egg\n",
    "MANIFEST\n",
    "\n",
    "# PyInstaller\n",
    "#  Usually these files are written by a python script from a template\n",
    "#  before PyInstaller builds the exe, so as to inject date/other infos into it.\n",
    "*.manifest\n",
    "*.spec\n",
    "\n",
    "# Installer logs\n",
    "pip-log.txt\n",
    "pip-delete-this-directory.txt\n",
    "\n",
    "# Unit test / coverage reports\n",
    "htmlcov/\n",
    ".tox/\n",
    ".nox/\n",
    ".coverage\n",
    ".coverage.*\n",
    ".cache\n",
    "nosetests.xml\n",
    "coverage.xml\n",
    "*.cover\n",
    "*.py,cover\n",
    ".hypothesis/\n",
    ".pytest_cache/\n",
    "\n",
    "# Translations\n",
    "*.mo\n",
    "*.pot\n",
    "\n",
    "# Django stuff:\n",
    "*.log\n",
    "local_settings.py\n",
    "db.sqlite3\n",
    "db.sqlite3-journal\n",
    "\n",
    "# Flask stuff:\n",
    "instance/\n",
    ".webassets-cache\n",
    "\n",
    "# Scrapy stuff:\n",
    ".scrapy\n",
    "\n",
    "# Sphinx documentation\n",
    "docs/_build/\n",
    "\n",
    "# PyBuilder\n",
    "target/\n",
    "\n",
    "# Jupyter Notebook\n",
    ".ipynb_checkpoints\n",
    "\n",
    "# IPython\n",
    "profile_default/\n",
    "ipython_config.py\n",
    "\n",
    "# pyenv\n",
    ".python-version\n",
    "\n",
    "# pipenv\n",
    "#   According to pypa/pipenv#598, it is recommended to include Pipfile.lock in version control.\n",
    "#   However, in case of collaboration, if having platform-specific dependencies or dependencies\n",
    "#   having no cross-platform support, pipenv may install dependencies that don't work, or not\n",
    "#   install all needed dependencies.\n",
    "#Pipfile.lock\n",
    "\n",
    "# PEP 582; used by e.g. github.com/David-OConnor/pyflow\n",
    "__pypackages__/\n",
    "\n",
    "# Celery stuff\n",
    "celerybeat-schedule\n",
    "celerybeat.pid\n",
    "\n",
    "# SageMath parsed files\n",
    "*.sage.py\n",
    "\n",
    "# Environments\n",
    ".env\n",
    ".venv\n",
    "env/\n",
    "venv/\n",
    "ENV/\n",
    "env.bak/\n",
    "venv.bak/\n",
    "\n",
    "# Spyder project settings\n",
    ".spyderproject\n",
    ".spyproject\n",
    "\n",
    "# Rope project settings\n",
    ".ropeproject\n",
    "\n",
    "# mkdocs documentation\n",
    "/site\n",
    "\n",
    "# mypy\n",
    ".mypy_cache/\n",
    ".dmypy.json\n",
    "dmypy.json\n",
    "\n",
    "# Pyre type checker\n",
    ".pyre/"
   ]
  },
  {
   "cell_type": "markdown",
   "id": "243fe68b",
   "metadata": {},
   "source": [
    "### Write ```setup.py``` to root directory"
   ]
  },
  {
   "cell_type": "code",
   "execution_count": 48,
   "id": "856011e6",
   "metadata": {},
   "outputs": [
    {
     "name": "stdout",
     "output_type": "stream",
     "text": [
      "Writing ../preprocessing_toolbox_example/setup.py\n"
     ]
    }
   ],
   "source": [
    "%%writefile ../preprocessing_toolbox_example/setup.py\n",
    "from setuptools import setup\n",
    "\n",
    "setup(\n",
    "    name='preprocessing_toolbox_example',\n",
    "    version='0.0.1',\n",
    "    description='Example',\n",
    "    url='http://github.com/gopfsrisk/preprocessing_toolbox_example',\n",
    "    author='Aaron England',\n",
    "    author_email='aaron.england.dev@gmail.com',\n",
    "    license='MIT',\n",
    "    packages=['preprocessing_toolbox_example'],\n",
    "    zip_safe=False,\n",
    ")"
   ]
  },
  {
   "cell_type": "markdown",
   "id": "eda909e9",
   "metadata": {},
   "source": [
    "### Make internal folder"
   ]
  },
  {
   "cell_type": "code",
   "execution_count": 49,
   "id": "e29e330a",
   "metadata": {},
   "outputs": [
    {
     "name": "stdout",
     "output_type": "stream",
     "text": [
      "Successfully created the directory ../preprocessing_toolbox_example/preprocessing_toolbox_example\n"
     ]
    }
   ],
   "source": [
    "# dirname\n",
    "str_dirname_new = f'../{str_dirname_root}/{str_dirname_root}'\n",
    "\n",
    "# mkdir\n",
    "try:\n",
    "    os.mkdir(str_dirname_new)\n",
    "    print(f'Successfully created the directory {str_dirname_new}')\n",
    "except FileExistsError:\n",
    "    print(f'The directory {str_dirname_new} already exists')"
   ]
  },
  {
   "cell_type": "code",
   "execution_count": 50,
   "id": "6d1b1f1c",
   "metadata": {},
   "outputs": [
    {
     "name": "stdout",
     "output_type": "stream",
     "text": [
      "Items in ../preprocessing_toolbox_example: ['.gitignore', 'preprocessing_toolbox_example', 'setup.py']\n"
     ]
    }
   ],
   "source": [
    "# show objects in str_dirname_root\n",
    "print(f'Items in {str_dirname_root_new}: {os.listdir(str_dirname_root_new)}')"
   ]
  },
  {
   "cell_type": "code",
   "execution_count": 51,
   "id": "4f70a97c",
   "metadata": {},
   "outputs": [
    {
     "name": "stdout",
     "output_type": "stream",
     "text": [
      "Items in ../preprocessing_toolbox_example/preprocessing_toolbox_example: []\n"
     ]
    }
   ],
   "source": [
    "# show objects in str_dirname_new\n",
    "print(f'Items in {str_dirname_new}: {os.listdir(str_dirname_new)}')"
   ]
  },
  {
   "cell_type": "markdown",
   "id": "fe16432a",
   "metadata": {},
   "source": [
    "### Write to ```preprocessing.py``` to internal folder"
   ]
  },
  {
   "cell_type": "code",
   "execution_count": 52,
   "id": "48c77071",
   "metadata": {},
   "outputs": [
    {
     "name": "stdout",
     "output_type": "stream",
     "text": [
      "Writing ../preprocessing_toolbox_example/preprocessing_toolbox_example/preprocessing.py\n"
     ]
    }
   ],
   "source": [
    "%%writefile ../preprocessing_toolbox_example/preprocessing_toolbox_example/preprocessing.py\n",
    "import numpy as np\n",
    "from pandas.api.types import is_numeric_dtype\n",
    "\n",
    "# class\n",
    "class ImputerNumericMin:\n",
    "    # initialize\n",
    "    def __init__(self, str_message='Numeric imputation (minimum)'):\n",
    "        self.str_message = str_message\n",
    "    # fit\n",
    "    def fit(self, X):\n",
    "        dict_impute_min = {}\n",
    "        for col in X.columns:\n",
    "            # get min\n",
    "            try:\n",
    "                val_min = np.min(X[col])\n",
    "                # assign to dict_impute_min\n",
    "                dict_impute_min[col] = val_min\n",
    "            # if non-numeric\n",
    "            except TypeError:\n",
    "                pass\n",
    "        # save to object\n",
    "        self.dict_impute_min = dict_impute_min\n",
    "        # return object\n",
    "        return self\n",
    "    # transform\n",
    "    def transform(self, X):\n",
    "        # future proof\n",
    "        dict_impute_min = {key: val for key, val in self.dict_impute_min.items() if key in list(X.columns)}\n",
    "        # use the dict_impute_min not saved to self\n",
    "        for key, val in dict_impute_min.items():\n",
    "            # impute\n",
    "            X[key] = X[key].fillna(val, inplace=False)\n",
    "        # print message\n",
    "        print(self.str_message)\n",
    "        # return X\n",
    "        return X\n",
    "\n",
    "# class\n",
    "class CleanAndImputeText:\n",
    "    # initialize\n",
    "    def __init__(self, str_message='Lower and strip text'):\n",
    "        self.str_message = str_message\n",
    "    # fit\n",
    "    def fit(self, X):\n",
    "        # get non-numeric columns\n",
    "        list_clean_and_impute = [col for col in list(X.columns) if not is_numeric_dtype(X[col])]\n",
    "        # save to object\n",
    "        self.list_clean_and_impute = list_clean_and_impute\n",
    "        # return object\n",
    "        return self\n",
    "    # transform\n",
    "    def transform(self, X):\n",
    "        # future-proof\n",
    "        list_clean_and_impute = [col for col in self.list_clean_and_impute if col in list(X.columns)]\n",
    "        # iterate\n",
    "        for col in list_clean_and_impute:\n",
    "            X[col] = X[col].astype(str).str.lower().str.replace(' ','')\n",
    "        # print message\n",
    "        print(self.str_message)\n",
    "        # return X\n",
    "        return X\n",
    "\n",
    "# class\n",
    "class PreprocessingModel:\n",
    "    # initialize\n",
    "    def __init__(self, list_transformers):\n",
    "        self.list_transformers = list_transformers\n",
    "    # transform\n",
    "    def transform(self, X):\n",
    "        # iterate through transformers\n",
    "        for transformer in self.list_transformers:\n",
    "            X = transformer.transform(X=X)\n",
    "        # return X\n",
    "        return X"
   ]
  },
  {
   "cell_type": "markdown",
   "id": "d80376c3",
   "metadata": {},
   "source": [
    "### Write ```__init__.py``` to internal folder"
   ]
  },
  {
   "cell_type": "code",
   "execution_count": 53,
   "id": "99ec5239",
   "metadata": {},
   "outputs": [
    {
     "name": "stdout",
     "output_type": "stream",
     "text": [
      "Writing ../preprocessing_toolbox_example/preprocessing_toolbox_example/__init__.py\n"
     ]
    }
   ],
   "source": [
    "%%writefile ../preprocessing_toolbox_example/preprocessing_toolbox_example/__init__.py\n",
    "# __init__"
   ]
  },
  {
   "cell_type": "code",
   "execution_count": 54,
   "id": "43bf13b0",
   "metadata": {},
   "outputs": [
    {
     "name": "stdout",
     "output_type": "stream",
     "text": [
      "Items in ../preprocessing_toolbox_example/preprocessing_toolbox_example: ['preprocessing.py', '__init__.py']\n"
     ]
    }
   ],
   "source": [
    "# show objects in str_dirname_new\n",
    "print(f'Items in {str_dirname_new}: {os.listdir(str_dirname_new)}')"
   ]
  },
  {
   "cell_type": "markdown",
   "id": "7eb00429",
   "metadata": {},
   "source": [
    "### Show directory structure"
   ]
  },
  {
   "cell_type": "code",
   "execution_count": 55,
   "id": "6c22ec70",
   "metadata": {},
   "outputs": [
    {
     "name": "stdout",
     "output_type": "stream",
     "text": [
      "Directory structure for the package preprocessing_toolbox_example:\n",
      "\n",
      "preprocessing_toolbox_example (Root)\n",
      "      |_____ .gitignore\n",
      "      |_____ setup.py\n",
      "      |_____ preprocessing_toolbox_example\n",
      "                |_____ preprocessing.py\n",
      "                |_____ __init__.py\n"
     ]
    }
   ],
   "source": [
    "# spaces\n",
    "str_spaces = '     '\n",
    "str_hline = '_____'\n",
    "str_vline = ' |'\n",
    "\n",
    "# title\n",
    "print(f'Directory structure for the package {str_dirname_root_new[3:]}:')\n",
    "print('')\n",
    "\n",
    "# print root\n",
    "print(f'{str_dirname_root_new[3:]} (Root)')\n",
    "\n",
    "# get list of items in str_dirname_root_new\n",
    "list_items_root = os.listdir(str_dirname_root_new)\n",
    "# get files\n",
    "list_files_root = [item for item in list_items_root if '.' in item]\n",
    "for file in list_files_root:\n",
    "    print(f'{str_spaces}{str_vline}{str_hline} {file}')\n",
    "# get list dirs\n",
    "list_dirs_root = [item for item in list_items_root if '.' not in item]\n",
    "for dir_ in list_dirs_root:\n",
    "    print(f'{str_spaces}{str_vline}{str_hline} {dir_}')\n",
    "    # get files\n",
    "    list_files_dir = os.listdir(f'{str_dirname_root_new}/{dir_}')\n",
    "    for file in list_files_dir:\n",
    "        print(f'{str_spaces}{str_spaces}{str_spaces}{str_vline}{str_hline} {file}')"
   ]
  },
  {
   "cell_type": "markdown",
   "id": "9b6b7d4a",
   "metadata": {},
   "source": [
    "## Install package"
   ]
  },
  {
   "cell_type": "code",
   "execution_count": 56,
   "id": "cd56c810",
   "metadata": {},
   "outputs": [
    {
     "name": "stdout",
     "output_type": "stream",
     "text": [
      "Collecting git+https://github.com/gopfsrisk/preprocessing_toolbox_example@620bfb4d40dc661c2486760f159adb12abb3aa4d"
     ]
    },
    {
     "name": "stderr",
     "output_type": "stream",
     "text": [
      "  Running command git clone -q https://github.com/gopfsrisk/preprocessing_toolbox_example 'C:\\Users\\aengland\\AppData\\Local\\Temp\\pip-req-build-taksf5vj'\n",
      "  Running command git rev-parse -q --verify 'sha^620bfb4d40dc661c2486760f159adb12abb3aa4d'\n",
      "  Running command git fetch -q https://github.com/gopfsrisk/preprocessing_toolbox_example 620bfb4d40dc661c2486760f159adb12abb3aa4d\n"
     ]
    },
    {
     "name": "stdout",
     "output_type": "stream",
     "text": [
      "\n",
      "  Cloning https://github.com/gopfsrisk/preprocessing_toolbox_example (to revision 620bfb4d40dc661c2486760f159adb12abb3aa4d) to c:\\users\\aengland\\appdata\\local\\temp\\pip-req-build-taksf5vj\n",
      "  Resolved https://github.com/gopfsrisk/preprocessing_toolbox_example to commit 620bfb4d40dc661c2486760f159adb12abb3aa4d\n"
     ]
    }
   ],
   "source": [
    "! pip install git+https://github.com/gopfsrisk/preprocessing_toolbox_example@620bfb4d40dc661c2486760f159adb12abb3aa4d"
   ]
  },
  {
   "cell_type": "code",
   "execution_count": 57,
   "id": "9317b702",
   "metadata": {},
   "outputs": [],
   "source": [
    "import preprocessing_toolbox_example.preprocessing as pre"
   ]
  },
  {
   "cell_type": "code",
   "execution_count": 58,
   "id": "020181e3",
   "metadata": {},
   "outputs": [
    {
     "name": "stdout",
     "output_type": "stream",
     "text": [
      "{'col1': 1.0, 'col2': 2.0, 'col3': 3.0}\n"
     ]
    }
   ],
   "source": [
    "# initialize class\n",
    "cls_imputer_numeric_min = pre.ImputerNumericMin(str_message='Numeric imputation (minimum)')\n",
    "\n",
    "# fit on train\n",
    "cls_imputer_numeric_min.fit(X=df_raw_train)\n",
    "\n",
    "# show\n",
    "try:\n",
    "    pprint(cls_imputer_numeric_min.dict_impute_min)\n",
    "except AttributeError:\n",
    "    print('dict_impute_min does not exist, please run fit and check again')"
   ]
  },
  {
   "cell_type": "code",
   "execution_count": 59,
   "id": "0607ab21",
   "metadata": {},
   "outputs": [
    {
     "name": "stdout",
     "output_type": "stream",
     "text": [
      "['col4', 'col5']\n"
     ]
    }
   ],
   "source": [
    "# initialize class\n",
    "cls_clean_and_impute = pre.CleanAndImputeText(str_message='Lower and strip text')\n",
    "\n",
    "# fit on train\n",
    "cls_clean_and_impute.fit(X=df_raw_train)\n",
    "\n",
    "# show\n",
    "try:\n",
    "    pprint(cls_clean_and_impute.list_clean_and_impute)\n",
    "except AttributeError:\n",
    "    print('list_clean_and_impute does not exist, please run fit and check again')"
   ]
  },
  {
   "cell_type": "code",
   "execution_count": 60,
   "id": "a081bcfd",
   "metadata": {},
   "outputs": [],
   "source": [
    "# create list of transformers\n",
    "list_transformers = [\n",
    "    cls_imputer_numeric_min,\n",
    "    cls_clean_and_impute,\n",
    "]\n",
    "\n",
    "# initialize class\n",
    "cls_model_preprocessing = pre.PreprocessingModel(list_transformers=list_transformers)"
   ]
  },
  {
   "cell_type": "code",
   "execution_count": 61,
   "id": "744fdd8e",
   "metadata": {},
   "outputs": [
    {
     "data": {
      "text/html": [
       "<div>\n",
       "<style scoped>\n",
       "    .dataframe tbody tr th:only-of-type {\n",
       "        vertical-align: middle;\n",
       "    }\n",
       "\n",
       "    .dataframe tbody tr th {\n",
       "        vertical-align: top;\n",
       "    }\n",
       "\n",
       "    .dataframe thead th {\n",
       "        text-align: right;\n",
       "    }\n",
       "</style>\n",
       "<table border=\"1\" class=\"dataframe\">\n",
       "  <thead>\n",
       "    <tr style=\"text-align: right;\">\n",
       "      <th></th>\n",
       "      <th>col1</th>\n",
       "      <th>col2</th>\n",
       "      <th>col3</th>\n",
       "      <th>col4</th>\n",
       "      <th>col5</th>\n",
       "    </tr>\n",
       "  </thead>\n",
       "  <tbody>\n",
       "    <tr>\n",
       "      <th>0</th>\n",
       "      <td>1.0</td>\n",
       "      <td>2.0</td>\n",
       "      <td>3.0</td>\n",
       "      <td>four</td>\n",
       "      <td>five</td>\n",
       "    </tr>\n",
       "    <tr>\n",
       "      <th>1</th>\n",
       "      <td>1.0</td>\n",
       "      <td>2.0</td>\n",
       "      <td>3.0</td>\n",
       "      <td>Four</td>\n",
       "      <td>Five</td>\n",
       "    </tr>\n",
       "    <tr>\n",
       "      <th>2</th>\n",
       "      <td>1.0</td>\n",
       "      <td>2.0</td>\n",
       "      <td>3.0</td>\n",
       "      <td>fo ur</td>\n",
       "      <td>fi ve</td>\n",
       "    </tr>\n",
       "    <tr>\n",
       "      <th>3</th>\n",
       "      <td>1.0</td>\n",
       "      <td>2.0</td>\n",
       "      <td>3.0</td>\n",
       "      <td>four</td>\n",
       "      <td>five</td>\n",
       "    </tr>\n",
       "    <tr>\n",
       "      <th>4</th>\n",
       "      <td>NaN</td>\n",
       "      <td>NaN</td>\n",
       "      <td>NaN</td>\n",
       "      <td>NaN</td>\n",
       "      <td>NaN</td>\n",
       "    </tr>\n",
       "  </tbody>\n",
       "</table>\n",
       "</div>"
      ],
      "text/plain": [
       "   col1  col2  col3   col4   col5\n",
       "0   1.0   2.0   3.0   four   five\n",
       "1   1.0   2.0   3.0   Four   Five\n",
       "2   1.0   2.0   3.0  fo ur  fi ve\n",
       "3   1.0   2.0   3.0   four   five\n",
       "4   NaN   NaN   NaN    NaN    NaN"
      ]
     },
     "execution_count": 61,
     "metadata": {},
     "output_type": "execute_result"
    }
   ],
   "source": [
    "# show train\n",
    "df_raw_train"
   ]
  },
  {
   "cell_type": "code",
   "execution_count": 62,
   "id": "74fca45f",
   "metadata": {},
   "outputs": [
    {
     "data": {
      "text/html": [
       "<div>\n",
       "<style scoped>\n",
       "    .dataframe tbody tr th:only-of-type {\n",
       "        vertical-align: middle;\n",
       "    }\n",
       "\n",
       "    .dataframe tbody tr th {\n",
       "        vertical-align: top;\n",
       "    }\n",
       "\n",
       "    .dataframe thead th {\n",
       "        text-align: right;\n",
       "    }\n",
       "</style>\n",
       "<table border=\"1\" class=\"dataframe\">\n",
       "  <thead>\n",
       "    <tr style=\"text-align: right;\">\n",
       "      <th></th>\n",
       "      <th>col1</th>\n",
       "      <th>col2</th>\n",
       "      <th>col3</th>\n",
       "      <th>col4</th>\n",
       "      <th>col5</th>\n",
       "    </tr>\n",
       "  </thead>\n",
       "  <tbody>\n",
       "    <tr>\n",
       "      <th>0</th>\n",
       "      <td>NaN</td>\n",
       "      <td>NaN</td>\n",
       "      <td>NaN</td>\n",
       "      <td>NaN</td>\n",
       "      <td>NaN</td>\n",
       "    </tr>\n",
       "    <tr>\n",
       "      <th>1</th>\n",
       "      <td>NaN</td>\n",
       "      <td>NaN</td>\n",
       "      <td>NaN</td>\n",
       "      <td>NaN</td>\n",
       "      <td>NaN</td>\n",
       "    </tr>\n",
       "  </tbody>\n",
       "</table>\n",
       "</div>"
      ],
      "text/plain": [
       "   col1  col2  col3  col4  col5\n",
       "0   NaN   NaN   NaN   NaN   NaN\n",
       "1   NaN   NaN   NaN   NaN   NaN"
      ]
     },
     "execution_count": 62,
     "metadata": {},
     "output_type": "execute_result"
    }
   ],
   "source": [
    "# show test\n",
    "df_raw_test"
   ]
  },
  {
   "cell_type": "code",
   "execution_count": 63,
   "id": "711e0ce1",
   "metadata": {},
   "outputs": [
    {
     "name": "stdout",
     "output_type": "stream",
     "text": [
      "Numeric imputation (minimum)\n",
      "Lower and strip text\n"
     ]
    },
    {
     "data": {
      "text/html": [
       "<div>\n",
       "<style scoped>\n",
       "    .dataframe tbody tr th:only-of-type {\n",
       "        vertical-align: middle;\n",
       "    }\n",
       "\n",
       "    .dataframe tbody tr th {\n",
       "        vertical-align: top;\n",
       "    }\n",
       "\n",
       "    .dataframe thead th {\n",
       "        text-align: right;\n",
       "    }\n",
       "</style>\n",
       "<table border=\"1\" class=\"dataframe\">\n",
       "  <thead>\n",
       "    <tr style=\"text-align: right;\">\n",
       "      <th></th>\n",
       "      <th>col1</th>\n",
       "      <th>col2</th>\n",
       "      <th>col3</th>\n",
       "      <th>col4</th>\n",
       "      <th>col5</th>\n",
       "    </tr>\n",
       "  </thead>\n",
       "  <tbody>\n",
       "    <tr>\n",
       "      <th>0</th>\n",
       "      <td>1.0</td>\n",
       "      <td>2.0</td>\n",
       "      <td>3.0</td>\n",
       "      <td>four</td>\n",
       "      <td>five</td>\n",
       "    </tr>\n",
       "    <tr>\n",
       "      <th>1</th>\n",
       "      <td>1.0</td>\n",
       "      <td>2.0</td>\n",
       "      <td>3.0</td>\n",
       "      <td>four</td>\n",
       "      <td>five</td>\n",
       "    </tr>\n",
       "    <tr>\n",
       "      <th>2</th>\n",
       "      <td>1.0</td>\n",
       "      <td>2.0</td>\n",
       "      <td>3.0</td>\n",
       "      <td>four</td>\n",
       "      <td>five</td>\n",
       "    </tr>\n",
       "    <tr>\n",
       "      <th>3</th>\n",
       "      <td>1.0</td>\n",
       "      <td>2.0</td>\n",
       "      <td>3.0</td>\n",
       "      <td>four</td>\n",
       "      <td>five</td>\n",
       "    </tr>\n",
       "    <tr>\n",
       "      <th>4</th>\n",
       "      <td>1.0</td>\n",
       "      <td>2.0</td>\n",
       "      <td>3.0</td>\n",
       "      <td>nan</td>\n",
       "      <td>nan</td>\n",
       "    </tr>\n",
       "  </tbody>\n",
       "</table>\n",
       "</div>"
      ],
      "text/plain": [
       "   col1  col2  col3  col4  col5\n",
       "0   1.0   2.0   3.0  four  five\n",
       "1   1.0   2.0   3.0  four  five\n",
       "2   1.0   2.0   3.0  four  five\n",
       "3   1.0   2.0   3.0  four  five\n",
       "4   1.0   2.0   3.0   nan   nan"
      ]
     },
     "execution_count": 63,
     "metadata": {},
     "output_type": "execute_result"
    }
   ],
   "source": [
    "# transform train\n",
    "df_raw_train = cls_model_preprocessing.transform(X=df_raw_train)\n",
    "\n",
    "# show\n",
    "df_raw_train"
   ]
  },
  {
   "cell_type": "code",
   "execution_count": 64,
   "id": "6da7b1ae",
   "metadata": {},
   "outputs": [
    {
     "name": "stdout",
     "output_type": "stream",
     "text": [
      "Numeric imputation (minimum)\n",
      "Lower and strip text\n"
     ]
    },
    {
     "data": {
      "text/html": [
       "<div>\n",
       "<style scoped>\n",
       "    .dataframe tbody tr th:only-of-type {\n",
       "        vertical-align: middle;\n",
       "    }\n",
       "\n",
       "    .dataframe tbody tr th {\n",
       "        vertical-align: top;\n",
       "    }\n",
       "\n",
       "    .dataframe thead th {\n",
       "        text-align: right;\n",
       "    }\n",
       "</style>\n",
       "<table border=\"1\" class=\"dataframe\">\n",
       "  <thead>\n",
       "    <tr style=\"text-align: right;\">\n",
       "      <th></th>\n",
       "      <th>col1</th>\n",
       "      <th>col2</th>\n",
       "      <th>col3</th>\n",
       "      <th>col4</th>\n",
       "      <th>col5</th>\n",
       "    </tr>\n",
       "  </thead>\n",
       "  <tbody>\n",
       "    <tr>\n",
       "      <th>0</th>\n",
       "      <td>1.0</td>\n",
       "      <td>2.0</td>\n",
       "      <td>3.0</td>\n",
       "      <td>nan</td>\n",
       "      <td>nan</td>\n",
       "    </tr>\n",
       "    <tr>\n",
       "      <th>1</th>\n",
       "      <td>1.0</td>\n",
       "      <td>2.0</td>\n",
       "      <td>3.0</td>\n",
       "      <td>nan</td>\n",
       "      <td>nan</td>\n",
       "    </tr>\n",
       "  </tbody>\n",
       "</table>\n",
       "</div>"
      ],
      "text/plain": [
       "   col1  col2  col3 col4 col5\n",
       "0   1.0   2.0   3.0  nan  nan\n",
       "1   1.0   2.0   3.0  nan  nan"
      ]
     },
     "execution_count": 64,
     "metadata": {},
     "output_type": "execute_result"
    }
   ],
   "source": [
    "# transform test\n",
    "df_raw_test = cls_model_preprocessing.transform(X=df_raw_test)\n",
    "\n",
    "# show\n",
    "df_raw_test"
   ]
  }
 ],
 "metadata": {
  "kernelspec": {
   "display_name": "Python 3 (ipykernel)",
   "language": "python",
   "name": "python3"
  },
  "language_info": {
   "codemirror_mode": {
    "name": "ipython",
    "version": 3
   },
   "file_extension": ".py",
   "mimetype": "text/x-python",
   "name": "python",
   "nbconvert_exporter": "python",
   "pygments_lexer": "ipython3",
   "version": "3.9.7"
  }
 },
 "nbformat": 4,
 "nbformat_minor": 5
}
